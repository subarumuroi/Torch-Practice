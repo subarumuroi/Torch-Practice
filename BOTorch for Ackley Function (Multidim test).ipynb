{
 "cells": [
  {
   "cell_type": "code",
   "execution_count": 14,
   "id": "e6e66536",
   "metadata": {},
   "outputs": [],
   "source": [
    "# 20-dimensional Optimization of Ackley Function using BOTorch\n",
    "\n",
    "import torch\n",
    "\n",
    "from gpytorch import kernels, means, likelihoods\n",
    "from gpytorch.mlls import ExactMarginalLogLikelihood\n",
    "\n",
    "from pyDOE3 import lhs\n",
    "\n",
    "import numpy as np\n",
    "import matplotlib.pyplot as plt\n",
    "\n",
    "#from scipy.interpolate import griddata\n",
    "\n",
    "from botorch.models.transforms import Standardize, Normalize\n",
    "#from botorch.utils.transforms import normalize, unnormalize\n",
    "from botorch.models import SingleTaskGP\n",
    "from botorch.fit import fit_gpytorch_mll\n",
    "from botorch.acquisition.logei import qLogNoisyExpectedImprovement\n",
    "from botorch.models.transforms.outcome import Standardize\n",
    "from botorch.optim import optimize_acqf\n",
    "\n",
    "from botorch.test_functions import Ackley"
   ]
  },
  {
   "cell_type": "code",
   "execution_count": 41,
   "id": "63293948",
   "metadata": {},
   "outputs": [],
   "source": [
    "seed =42\n",
    "torch.manual_seed(seed)\n",
    "\n",
    "noise_std = 0.5\n",
    "\n",
    "initial_sample = 24\n",
    "\n",
    "nu = 2.5\n",
    "\n",
    "dim = 10\n",
    "\n",
    "bounds = torch.stack([torch.zeros(dim), torch.ones(dim)])\n",
    "\n",
    "# standard Latin hypercube using maximin criterion (converts to tensor)\n",
    "lhs_design = torch.tensor(\n",
    "            lhs(n = dim, samples = initial_sample, criterion = 'maximin', random_state=seed), \n",
    "        dtype=torch.double\n",
    "        )\n",
    "\n",
    "#print(lhs_design, lhs_design.shape)"
   ]
  },
  {
   "cell_type": "code",
   "execution_count": 23,
   "id": "c4018612",
   "metadata": {},
   "outputs": [],
   "source": [
    "# Gaussian Process Model\n",
    "\n",
    "# Only for further GP Model development\n",
    "\n",
    "# Setup (Assume train_X, train_Y, bounds, and objective_function are defined)\n",
    "# ===========================\n",
    "\n",
    "\n",
    "\n",
    "# GP Model definition\n",
    "class GPModel(SingleTaskGP):\n",
    "    def __init__(self, train_X, train_Y, fixed_noise=False, noise_level=noise_level,\n",
    "                 lengthscale_prior=None, outputscale_prior=None,\n",
    "                 lengthscale_constraint = None, outputscale_constraint=None):\n",
    "\n",
    "        if fixed_noise:\n",
    "            print(f\"Training with FIXED noise: {noise_level*100:.1f}% of mean output.\")\n",
    "            noise_variance = (noise_level * train_Y.mean()).pow(2)\n",
    "            train_Yvar = torch.full_like(train_Y, noise_variance)\n",
    "            likelihood = None\n",
    "            super().__init__(\n",
    "                train_X, train_Y, train_Yvar=train_Yvar, likelihood=likelihood,\n",
    "                outcome_transform=Standardize(m=1),\n",
    "                input_transform=Normalize(d=dim)\n",
    "            )\n",
    "        else:\n",
    "            print(\"Training with LEARNABLE noise (Gaussian Likelihood).\")\n",
    "            likelihood = likelihoods.GaussianLikelihood()\n",
    "            super().__init__(\n",
    "                train_X, train_Y, likelihood=likelihood,\n",
    "                outcome_transform=Standardize(m=1),\n",
    "                input_transform=Normalize(d=dim)\n",
    "            )\n",
    "            '''\n",
    "            lower_noise = lower_noise_bound**2  # lower noise bound\n",
    "            upper_noise = upper_noise_bound**2  # upper noise bound\n",
    "\n",
    "            # Add a **prior** (softly nudges during training)\n",
    "            self.likelihood.noise_covar.register_prior(\n",
    "                \"noise_prior\",\n",
    "                SmoothedBoxPrior(lower_noise, upper_noise),\n",
    "                \"raw_noise\"\n",
    "            )\n",
    "\n",
    "            # Add a **constraint** (hard bounding box)\n",
    "            self.likelihood.noise_covar.register_constraint(\n",
    "                \"raw_noise\",\n",
    "                Interval(lower_noise, upper_noise)\n",
    "            )\n",
    "            '''\n",
    "\n",
    "        self.mean_module = means.ConstantMean()\n",
    "\n",
    "        matern_kernel = kernels.MaternKernel(\n",
    "            nu=nu,\n",
    "            ard_num_dims=dim,\n",
    "            lengthscale_prior=lengthscale_prior,\n",
    "            lengthscale_constraint=lengthscale_constraint,\n",
    "        )\n",
    "\n",
    "        self.covar_module = kernels.ScaleKernel(\n",
    "            base_kernel=matern_kernel,\n",
    "            outputscale_prior=outputscale_prior,\n",
    "            outputscale_constraint=outputscale_constraint,\n",
    "        )\n",
    "        #self.likelihood=likelihood  # I added this to fix for fixed, but it might be redundant\n",
    "\n",
    "        \n",
    "# Training function\n",
    "def train_GP_model(train_X, train_Y, fixed_noise=False, noise_level=noise_level,\n",
    "                   lengthscale_prior=None, outputscale_prior=None,\n",
    "                   lengthscale_constraint = None, outputscale_constraint=None): \n",
    "    model = GPModel(\n",
    "        train_X, train_Y,\n",
    "        fixed_noise=fixed_noise,\n",
    "        noise_level=noise_level,\n",
    "        lengthscale_prior=lengthscale_prior,\n",
    "        outputscale_prior=outputscale_prior,\n",
    "        lengthscale_constraint = lengthscale_constraint, \n",
    "        outputscale_constraint=outputscale_constraint\n",
    "    )\n",
    "    mll = ExactMarginalLogLikelihood(model.likelihood, model)\n",
    "    fit_gpytorch_mll(mll)\n",
    "    return model, mll\n"
   ]
  },
  {
   "cell_type": "code",
   "execution_count": null,
   "id": "3e04bf6c",
   "metadata": {},
   "outputs": [
    {
     "name": "stdout",
     "output_type": "stream",
     "text": [
      "\n",
      " ===Iteration 1===\n",
      "Training with LEARNABLE noise (Gaussian Likelihood).\n",
      "Best Y: -2.5416 at X: tensor([0.2470, 0.2308, 0.6556, 0.0511, 0.4228, 0.2537, 0.3460, 0.6021, 0.7282,\n",
      "        0.0514], dtype=torch.float64)\n",
      "\n",
      " ===Iteration 2===\n",
      "Training with LEARNABLE noise (Gaussian Likelihood).\n",
      "Best Y: -2.5416 at X: tensor([0.2470, 0.2308, 0.6556, 0.0511, 0.4228, 0.2537, 0.3460, 0.6021, 0.7282,\n",
      "        0.0514], dtype=torch.float64)\n",
      "\n",
      " ===Iteration 3===\n",
      "Training with LEARNABLE noise (Gaussian Likelihood).\n",
      "Best Y: -2.5416 at X: tensor([0.2470, 0.2308, 0.6556, 0.0511, 0.4228, 0.2537, 0.3460, 0.6021, 0.7282,\n",
      "        0.0514], dtype=torch.float64)\n",
      "\n",
      " ===Iteration 4===\n",
      "Training with LEARNABLE noise (Gaussian Likelihood).\n",
      "Best Y: -2.5416 at X: tensor([0.2470, 0.2308, 0.6556, 0.0511, 0.4228, 0.2537, 0.3460, 0.6021, 0.7282,\n",
      "        0.0514], dtype=torch.float64)\n",
      "\n",
      " ===Iteration 5===\n",
      "Training with LEARNABLE noise (Gaussian Likelihood).\n",
      "Best Y: -2.5416 at X: tensor([0.2470, 0.2308, 0.6556, 0.0511, 0.4228, 0.2537, 0.3460, 0.6021, 0.7282,\n",
      "        0.0514], dtype=torch.float64)\n",
      "\n",
      " ===Iteration 6===\n",
      "Training with LEARNABLE noise (Gaussian Likelihood).\n",
      "Best Y: -2.1153 at X: tensor([0.1290, 0.0538, 0.0000, 0.0000, 0.0000, 0.8168, 0.0000, 0.3786, 0.8769,\n",
      "        0.4105], dtype=torch.float64)\n",
      "\n",
      " ===Iteration 7===\n",
      "Training with LEARNABLE noise (Gaussian Likelihood).\n",
      "Best Y: -2.1153 at X: tensor([0.1290, 0.0538, 0.0000, 0.0000, 0.0000, 0.8168, 0.0000, 0.3786, 0.8769,\n",
      "        0.4105], dtype=torch.float64)\n",
      "\n",
      " ===Iteration 8===\n",
      "Training with LEARNABLE noise (Gaussian Likelihood).\n",
      "Best Y: -2.1153 at X: tensor([0.1290, 0.0538, 0.0000, 0.0000, 0.0000, 0.8168, 0.0000, 0.3786, 0.8769,\n",
      "        0.4105], dtype=torch.float64)\n",
      "\n",
      " ===Iteration 9===\n",
      "Training with LEARNABLE noise (Gaussian Likelihood).\n",
      "Best Y: -1.1610 at X: tensor([0.2347, 0.0000, 0.0000, 0.0000, 0.0000, 0.0384, 0.5014, 0.2045, 0.8512,\n",
      "        0.0604], dtype=torch.float64)\n",
      "\n",
      " ===Iteration 10===\n",
      "Training with LEARNABLE noise (Gaussian Likelihood).\n",
      "Best Y: -1.1610 at X: tensor([0.2347, 0.0000, 0.0000, 0.0000, 0.0000, 0.0384, 0.5014, 0.2045, 0.8512,\n",
      "        0.0604], dtype=torch.float64)\n",
      "\n",
      " ===Iteration 11===\n",
      "Training with LEARNABLE noise (Gaussian Likelihood).\n",
      "Best Y: -1.1610 at X: tensor([0.2347, 0.0000, 0.0000, 0.0000, 0.0000, 0.0384, 0.5014, 0.2045, 0.8512,\n",
      "        0.0604], dtype=torch.float64)\n",
      "\n",
      " ===Iteration 12===\n",
      "Training with LEARNABLE noise (Gaussian Likelihood).\n",
      "Best Y: -1.1610 at X: tensor([0.2347, 0.0000, 0.0000, 0.0000, 0.0000, 0.0384, 0.5014, 0.2045, 0.8512,\n",
      "        0.0604], dtype=torch.float64)\n",
      "\n",
      " ===Iteration 13===\n",
      "Training with LEARNABLE noise (Gaussian Likelihood).\n",
      "Best Y: -1.1610 at X: tensor([0.2347, 0.0000, 0.0000, 0.0000, 0.0000, 0.0384, 0.5014, 0.2045, 0.8512,\n",
      "        0.0604], dtype=torch.float64)\n",
      "\n",
      " ===Iteration 14===\n",
      "Training with LEARNABLE noise (Gaussian Likelihood).\n",
      "Best Y: -1.1610 at X: tensor([0.2347, 0.0000, 0.0000, 0.0000, 0.0000, 0.0384, 0.5014, 0.2045, 0.8512,\n",
      "        0.0604], dtype=torch.float64)\n",
      "\n",
      " ===Iteration 15===\n",
      "Training with LEARNABLE noise (Gaussian Likelihood).\n",
      "Best Y: -1.1610 at X: tensor([0.2347, 0.0000, 0.0000, 0.0000, 0.0000, 0.0384, 0.5014, 0.2045, 0.8512,\n",
      "        0.0604], dtype=torch.float64)\n",
      "\n",
      " ===Iteration 16===\n",
      "Training with LEARNABLE noise (Gaussian Likelihood).\n",
      "Best Y: -1.1610 at X: tensor([0.2347, 0.0000, 0.0000, 0.0000, 0.0000, 0.0384, 0.5014, 0.2045, 0.8512,\n",
      "        0.0604], dtype=torch.float64)\n",
      "\n",
      " ===Iteration 17===\n",
      "Training with LEARNABLE noise (Gaussian Likelihood).\n",
      "Best Y: -1.1610 at X: tensor([0.2347, 0.0000, 0.0000, 0.0000, 0.0000, 0.0384, 0.5014, 0.2045, 0.8512,\n",
      "        0.0604], dtype=torch.float64)\n",
      "\n",
      " ===Iteration 18===\n",
      "Training with LEARNABLE noise (Gaussian Likelihood).\n",
      "Best Y: -1.1610 at X: tensor([0.2347, 0.0000, 0.0000, 0.0000, 0.0000, 0.0384, 0.5014, 0.2045, 0.8512,\n",
      "        0.0604], dtype=torch.float64)\n",
      "\n",
      " ===Iteration 19===\n",
      "Training with LEARNABLE noise (Gaussian Likelihood).\n",
      "Best Y: -1.1610 at X: tensor([0.2347, 0.0000, 0.0000, 0.0000, 0.0000, 0.0384, 0.5014, 0.2045, 0.8512,\n",
      "        0.0604], dtype=torch.float64)\n",
      "\n",
      " ===Iteration 20===\n",
      "Training with LEARNABLE noise (Gaussian Likelihood).\n",
      "Best Y: -1.1610 at X: tensor([0.2347, 0.0000, 0.0000, 0.0000, 0.0000, 0.0384, 0.5014, 0.2045, 0.8512,\n",
      "        0.0604], dtype=torch.float64)\n",
      "\n",
      " ===Iteration 21===\n",
      "Training with LEARNABLE noise (Gaussian Likelihood).\n",
      "Best Y: -1.1610 at X: tensor([0.2347, 0.0000, 0.0000, 0.0000, 0.0000, 0.0384, 0.5014, 0.2045, 0.8512,\n",
      "        0.0604], dtype=torch.float64)\n",
      "\n",
      " ===Iteration 22===\n",
      "Training with LEARNABLE noise (Gaussian Likelihood).\n",
      "Best Y: -1.1610 at X: tensor([0.2347, 0.0000, 0.0000, 0.0000, 0.0000, 0.0384, 0.5014, 0.2045, 0.8512,\n",
      "        0.0604], dtype=torch.float64)\n",
      "\n",
      " ===Iteration 23===\n",
      "Training with LEARNABLE noise (Gaussian Likelihood).\n",
      "Best Y: -1.1610 at X: tensor([0.2347, 0.0000, 0.0000, 0.0000, 0.0000, 0.0384, 0.5014, 0.2045, 0.8512,\n",
      "        0.0604], dtype=torch.float64)\n",
      "\n",
      " ===Iteration 24===\n",
      "Training with LEARNABLE noise (Gaussian Likelihood).\n",
      "Best Y: -1.1610 at X: tensor([0.2347, 0.0000, 0.0000, 0.0000, 0.0000, 0.0384, 0.5014, 0.2045, 0.8512,\n",
      "        0.0604], dtype=torch.float64)\n",
      "\n",
      " ===Iteration 25===\n",
      "Training with LEARNABLE noise (Gaussian Likelihood).\n",
      "Best Y: -1.1610 at X: tensor([0.2347, 0.0000, 0.0000, 0.0000, 0.0000, 0.0384, 0.5014, 0.2045, 0.8512,\n",
      "        0.0604], dtype=torch.float64)\n",
      "\n",
      " ===Iteration 26===\n",
      "Training with LEARNABLE noise (Gaussian Likelihood).\n",
      "Best Y: -1.1610 at X: tensor([0.2347, 0.0000, 0.0000, 0.0000, 0.0000, 0.0384, 0.5014, 0.2045, 0.8512,\n",
      "        0.0604], dtype=torch.float64)\n",
      "\n",
      " ===Iteration 27===\n",
      "Training with LEARNABLE noise (Gaussian Likelihood).\n",
      "Best Y: -1.1610 at X: tensor([0.2347, 0.0000, 0.0000, 0.0000, 0.0000, 0.0384, 0.5014, 0.2045, 0.8512,\n",
      "        0.0604], dtype=torch.float64)\n",
      "\n",
      " ===Iteration 28===\n",
      "Training with LEARNABLE noise (Gaussian Likelihood).\n",
      "Best Y: -0.6991 at X: tensor([0., 0., 0., 0., 0., 0., 0., 0., 0., 0.], dtype=torch.float64)\n",
      "\n",
      " ===Iteration 29===\n",
      "Training with LEARNABLE noise (Gaussian Likelihood).\n",
      "Best Y: -0.6991 at X: tensor([0., 0., 0., 0., 0., 0., 0., 0., 0., 0.], dtype=torch.float64)\n",
      "\n",
      " ===Iteration 30===\n",
      "Training with LEARNABLE noise (Gaussian Likelihood).\n",
      "Best Y: -0.6991 at X: tensor([0., 0., 0., 0., 0., 0., 0., 0., 0., 0.], dtype=torch.float64)\n",
      "\n",
      " ===Iteration 31===\n",
      "Training with LEARNABLE noise (Gaussian Likelihood).\n",
      "Best Y: -0.6991 at X: tensor([0., 0., 0., 0., 0., 0., 0., 0., 0., 0.], dtype=torch.float64)\n",
      "\n",
      " ===Iteration 32===\n",
      "Training with LEARNABLE noise (Gaussian Likelihood).\n",
      "Best Y: -0.6991 at X: tensor([0., 0., 0., 0., 0., 0., 0., 0., 0., 0.], dtype=torch.float64)\n",
      "\n",
      " ===Iteration 33===\n",
      "Training with LEARNABLE noise (Gaussian Likelihood).\n",
      "Best Y: -0.6991 at X: tensor([0., 0., 0., 0., 0., 0., 0., 0., 0., 0.], dtype=torch.float64)\n",
      "\n",
      " ===Iteration 34===\n",
      "Training with LEARNABLE noise (Gaussian Likelihood).\n",
      "Best Y: -0.6991 at X: tensor([0., 0., 0., 0., 0., 0., 0., 0., 0., 0.], dtype=torch.float64)\n",
      "\n",
      " ===Iteration 35===\n",
      "Training with LEARNABLE noise (Gaussian Likelihood).\n",
      "Best Y: -0.6991 at X: tensor([0., 0., 0., 0., 0., 0., 0., 0., 0., 0.], dtype=torch.float64)\n",
      "\n",
      " ===Iteration 36===\n",
      "Training with LEARNABLE noise (Gaussian Likelihood).\n",
      "Best Y: -0.6991 at X: tensor([0., 0., 0., 0., 0., 0., 0., 0., 0., 0.], dtype=torch.float64)\n",
      "\n",
      " ===Iteration 37===\n",
      "Training with LEARNABLE noise (Gaussian Likelihood).\n",
      "Best Y: -0.6991 at X: tensor([0., 0., 0., 0., 0., 0., 0., 0., 0., 0.], dtype=torch.float64)\n",
      "\n",
      " ===Iteration 38===\n",
      "Training with LEARNABLE noise (Gaussian Likelihood).\n",
      "Best Y: -0.6991 at X: tensor([0., 0., 0., 0., 0., 0., 0., 0., 0., 0.], dtype=torch.float64)\n",
      "\n",
      " ===Iteration 39===\n",
      "Training with LEARNABLE noise (Gaussian Likelihood).\n",
      "Best Y: -0.6991 at X: tensor([0., 0., 0., 0., 0., 0., 0., 0., 0., 0.], dtype=torch.float64)\n",
      "\n",
      " ===Iteration 40===\n",
      "Training with LEARNABLE noise (Gaussian Likelihood).\n",
      "Best Y: -0.6991 at X: tensor([0., 0., 0., 0., 0., 0., 0., 0., 0., 0.], dtype=torch.float64)\n",
      "\n",
      " ===Iteration 41===\n",
      "Training with LEARNABLE noise (Gaussian Likelihood).\n",
      "Best Y: -0.6991 at X: tensor([0., 0., 0., 0., 0., 0., 0., 0., 0., 0.], dtype=torch.float64)\n",
      "\n",
      " ===Iteration 42===\n",
      "Training with LEARNABLE noise (Gaussian Likelihood).\n",
      "Best Y: -0.6991 at X: tensor([0., 0., 0., 0., 0., 0., 0., 0., 0., 0.], dtype=torch.float64)\n",
      "\n",
      " ===Iteration 43===\n",
      "Training with LEARNABLE noise (Gaussian Likelihood).\n",
      "Best Y: -0.6991 at X: tensor([0., 0., 0., 0., 0., 0., 0., 0., 0., 0.], dtype=torch.float64)\n",
      "\n",
      " ===Iteration 44===\n",
      "Training with LEARNABLE noise (Gaussian Likelihood).\n",
      "Best Y: -0.5512 at X: tensor([1., 1., 0., 0., 0., 0., 0., 0., 0., 0.], dtype=torch.float64)\n",
      "\n",
      " ===Iteration 45===\n",
      "Training with LEARNABLE noise (Gaussian Likelihood).\n",
      "Best Y: -0.5512 at X: tensor([1., 1., 0., 0., 0., 0., 0., 0., 0., 0.], dtype=torch.float64)\n",
      "\n",
      " ===Iteration 46===\n",
      "Training with LEARNABLE noise (Gaussian Likelihood).\n",
      "Best Y: -0.5512 at X: tensor([1., 1., 0., 0., 0., 0., 0., 0., 0., 0.], dtype=torch.float64)\n",
      "\n",
      " ===Iteration 47===\n",
      "Training with LEARNABLE noise (Gaussian Likelihood).\n",
      "Best Y: -0.5512 at X: tensor([1., 1., 0., 0., 0., 0., 0., 0., 0., 0.], dtype=torch.float64)\n",
      "\n",
      " ===Iteration 48===\n",
      "Training with LEARNABLE noise (Gaussian Likelihood).\n",
      "Best Y: -0.5512 at X: tensor([1., 1., 0., 0., 0., 0., 0., 0., 0., 0.], dtype=torch.float64)\n",
      "\n",
      " ===Iteration 49===\n",
      "Training with LEARNABLE noise (Gaussian Likelihood).\n",
      "Best Y: -0.5512 at X: tensor([1., 1., 0., 0., 0., 0., 0., 0., 0., 0.], dtype=torch.float64)\n",
      "\n",
      " ===Iteration 50===\n",
      "Training with LEARNABLE noise (Gaussian Likelihood).\n",
      "Best Y: -0.5512 at X: tensor([1., 1., 0., 0., 0., 0., 0., 0., 0., 0.], dtype=torch.float64)\n",
      "\n",
      " ===Iteration 51===\n",
      "Training with LEARNABLE noise (Gaussian Likelihood).\n",
      "Best Y: -0.5512 at X: tensor([1., 1., 0., 0., 0., 0., 0., 0., 0., 0.], dtype=torch.float64)\n",
      "\n",
      " ===Iteration 52===\n",
      "Training with LEARNABLE noise (Gaussian Likelihood).\n",
      "Best Y: -0.5512 at X: tensor([1., 1., 0., 0., 0., 0., 0., 0., 0., 0.], dtype=torch.float64)\n",
      "\n",
      " ===Iteration 53===\n",
      "Training with LEARNABLE noise (Gaussian Likelihood).\n",
      "Best Y: -0.5512 at X: tensor([1., 1., 0., 0., 0., 0., 0., 0., 0., 0.], dtype=torch.float64)\n",
      "\n",
      " ===Iteration 54===\n",
      "Training with LEARNABLE noise (Gaussian Likelihood).\n",
      "Best Y: -0.5512 at X: tensor([1., 1., 0., 0., 0., 0., 0., 0., 0., 0.], dtype=torch.float64)\n",
      "\n",
      " ===Iteration 55===\n",
      "Training with LEARNABLE noise (Gaussian Likelihood).\n",
      "Best Y: -0.5294 at X: tensor([0., 0., 0., 0., 0., 0., 0., 0., 0., 0.], dtype=torch.float64)\n",
      "\n",
      " ===Iteration 56===\n",
      "Training with LEARNABLE noise (Gaussian Likelihood).\n"
     ]
    },
    {
     "name": "stderr",
     "output_type": "stream",
     "text": [
      "c:\\Users\\uqkmuroi\\gitcode\\Torch-Practice\\venv\\Lib\\site-packages\\linear_operator\\utils\\cholesky.py:40: NumericalWarning: A not p.d., added jitter of 1.0e-08 to the diagonal\n",
      "  warnings.warn(\n"
     ]
    },
    {
     "name": "stdout",
     "output_type": "stream",
     "text": [
      "Best Y: -0.5294 at X: tensor([0., 0., 0., 0., 0., 0., 0., 0., 0., 0.], dtype=torch.float64)\n",
      "\n",
      " ===Iteration 57===\n",
      "Training with LEARNABLE noise (Gaussian Likelihood).\n"
     ]
    },
    {
     "name": "stderr",
     "output_type": "stream",
     "text": [
      "c:\\Users\\uqkmuroi\\gitcode\\Torch-Practice\\venv\\Lib\\site-packages\\linear_operator\\utils\\cholesky.py:40: NumericalWarning: A not p.d., added jitter of 1.0e-08 to the diagonal\n",
      "  warnings.warn(\n"
     ]
    },
    {
     "name": "stdout",
     "output_type": "stream",
     "text": [
      "Best Y: -0.5294 at X: tensor([0., 0., 0., 0., 0., 0., 0., 0., 0., 0.], dtype=torch.float64)\n",
      "\n",
      " ===Iteration 58===\n",
      "Training with LEARNABLE noise (Gaussian Likelihood).\n"
     ]
    },
    {
     "name": "stderr",
     "output_type": "stream",
     "text": [
      "c:\\Users\\uqkmuroi\\gitcode\\Torch-Practice\\venv\\Lib\\site-packages\\linear_operator\\utils\\cholesky.py:40: NumericalWarning: A not p.d., added jitter of 1.0e-08 to the diagonal\n",
      "  warnings.warn(\n"
     ]
    },
    {
     "name": "stdout",
     "output_type": "stream",
     "text": [
      "Best Y: -0.4232 at X: tensor([0.4641, 0.0000, 0.0000, 0.0000, 0.0000, 0.0000, 0.0000, 0.0000, 0.0000,\n",
      "        0.0000], dtype=torch.float64)\n",
      "\n",
      " ===Iteration 59===\n",
      "Training with LEARNABLE noise (Gaussian Likelihood).\n"
     ]
    },
    {
     "name": "stderr",
     "output_type": "stream",
     "text": [
      "c:\\Users\\uqkmuroi\\gitcode\\Torch-Practice\\venv\\Lib\\site-packages\\linear_operator\\utils\\cholesky.py:40: NumericalWarning: A not p.d., added jitter of 1.0e-08 to the diagonal\n",
      "  warnings.warn(\n"
     ]
    },
    {
     "name": "stdout",
     "output_type": "stream",
     "text": [
      "Best Y: -0.4232 at X: tensor([0.4641, 0.0000, 0.0000, 0.0000, 0.0000, 0.0000, 0.0000, 0.0000, 0.0000,\n",
      "        0.0000], dtype=torch.float64)\n",
      "\n",
      " ===Iteration 60===\n",
      "Training with LEARNABLE noise (Gaussian Likelihood).\n"
     ]
    },
    {
     "name": "stderr",
     "output_type": "stream",
     "text": [
      "c:\\Users\\uqkmuroi\\gitcode\\Torch-Practice\\venv\\Lib\\site-packages\\linear_operator\\utils\\cholesky.py:40: NumericalWarning: A not p.d., added jitter of 1.0e-08 to the diagonal\n",
      "  warnings.warn(\n"
     ]
    },
    {
     "name": "stdout",
     "output_type": "stream",
     "text": [
      "Best Y: 0.1080 at X: tensor([0., 0., 0., 0., 0., 0., 0., 0., 0., 0.], dtype=torch.float64)\n",
      "\n",
      " ===Iteration 61===\n",
      "Training with LEARNABLE noise (Gaussian Likelihood).\n"
     ]
    },
    {
     "name": "stderr",
     "output_type": "stream",
     "text": [
      "c:\\Users\\uqkmuroi\\gitcode\\Torch-Practice\\venv\\Lib\\site-packages\\linear_operator\\utils\\cholesky.py:40: NumericalWarning: A not p.d., added jitter of 1.0e-08 to the diagonal\n",
      "  warnings.warn(\n"
     ]
    },
    {
     "name": "stdout",
     "output_type": "stream",
     "text": [
      "Best Y: 0.1080 at X: tensor([0., 0., 0., 0., 0., 0., 0., 0., 0., 0.], dtype=torch.float64)\n",
      "\n",
      " ===Iteration 62===\n",
      "Training with LEARNABLE noise (Gaussian Likelihood).\n"
     ]
    },
    {
     "name": "stderr",
     "output_type": "stream",
     "text": [
      "c:\\Users\\uqkmuroi\\gitcode\\Torch-Practice\\venv\\Lib\\site-packages\\linear_operator\\utils\\cholesky.py:40: NumericalWarning: A not p.d., added jitter of 1.0e-08 to the diagonal\n",
      "  warnings.warn(\n"
     ]
    },
    {
     "name": "stdout",
     "output_type": "stream",
     "text": [
      "Best Y: 0.1080 at X: tensor([0., 0., 0., 0., 0., 0., 0., 0., 0., 0.], dtype=torch.float64)\n",
      "\n",
      " ===Iteration 63===\n",
      "Training with LEARNABLE noise (Gaussian Likelihood).\n"
     ]
    },
    {
     "name": "stderr",
     "output_type": "stream",
     "text": [
      "c:\\Users\\uqkmuroi\\gitcode\\Torch-Practice\\venv\\Lib\\site-packages\\linear_operator\\utils\\cholesky.py:40: NumericalWarning: A not p.d., added jitter of 1.0e-08 to the diagonal\n",
      "  warnings.warn(\n"
     ]
    },
    {
     "name": "stdout",
     "output_type": "stream",
     "text": [
      "Best Y: 0.1080 at X: tensor([0., 0., 0., 0., 0., 0., 0., 0., 0., 0.], dtype=torch.float64)\n",
      "\n",
      " ===Iteration 64===\n",
      "Training with LEARNABLE noise (Gaussian Likelihood).\n"
     ]
    },
    {
     "name": "stderr",
     "output_type": "stream",
     "text": [
      "c:\\Users\\uqkmuroi\\gitcode\\Torch-Practice\\venv\\Lib\\site-packages\\linear_operator\\utils\\cholesky.py:40: NumericalWarning: A not p.d., added jitter of 1.0e-08 to the diagonal\n",
      "  warnings.warn(\n"
     ]
    },
    {
     "name": "stdout",
     "output_type": "stream",
     "text": [
      "Best Y: 0.1080 at X: tensor([0., 0., 0., 0., 0., 0., 0., 0., 0., 0.], dtype=torch.float64)\n",
      "\n",
      " ===Iteration 65===\n",
      "Training with LEARNABLE noise (Gaussian Likelihood).\n"
     ]
    },
    {
     "name": "stderr",
     "output_type": "stream",
     "text": [
      "c:\\Users\\uqkmuroi\\gitcode\\Torch-Practice\\venv\\Lib\\site-packages\\linear_operator\\utils\\cholesky.py:40: NumericalWarning: A not p.d., added jitter of 1.0e-08 to the diagonal\n",
      "  warnings.warn(\n"
     ]
    },
    {
     "name": "stdout",
     "output_type": "stream",
     "text": [
      "Best Y: 0.1080 at X: tensor([0., 0., 0., 0., 0., 0., 0., 0., 0., 0.], dtype=torch.float64)\n",
      "\n",
      " ===Iteration 66===\n",
      "Training with LEARNABLE noise (Gaussian Likelihood).\n"
     ]
    },
    {
     "name": "stderr",
     "output_type": "stream",
     "text": [
      "c:\\Users\\uqkmuroi\\gitcode\\Torch-Practice\\venv\\Lib\\site-packages\\linear_operator\\utils\\cholesky.py:40: NumericalWarning: A not p.d., added jitter of 1.0e-08 to the diagonal\n",
      "  warnings.warn(\n"
     ]
    },
    {
     "name": "stdout",
     "output_type": "stream",
     "text": [
      "Best Y: 0.2604 at X: tensor([0.1857, 0.0000, 0.0000, 0.0000, 0.0000, 0.0000, 0.0000, 0.0000, 0.0000,\n",
      "        0.0000], dtype=torch.float64)\n",
      "\n",
      " ===Iteration 67===\n",
      "Training with LEARNABLE noise (Gaussian Likelihood).\n"
     ]
    },
    {
     "name": "stderr",
     "output_type": "stream",
     "text": [
      "c:\\Users\\uqkmuroi\\gitcode\\Torch-Practice\\venv\\Lib\\site-packages\\linear_operator\\utils\\cholesky.py:40: NumericalWarning: A not p.d., added jitter of 1.0e-08 to the diagonal\n",
      "  warnings.warn(\n"
     ]
    },
    {
     "name": "stdout",
     "output_type": "stream",
     "text": [
      "Best Y: 0.2604 at X: tensor([0.1857, 0.0000, 0.0000, 0.0000, 0.0000, 0.0000, 0.0000, 0.0000, 0.0000,\n",
      "        0.0000], dtype=torch.float64)\n",
      "\n",
      " ===Iteration 68===\n",
      "Training with LEARNABLE noise (Gaussian Likelihood).\n"
     ]
    },
    {
     "name": "stderr",
     "output_type": "stream",
     "text": [
      "c:\\Users\\uqkmuroi\\gitcode\\Torch-Practice\\venv\\Lib\\site-packages\\linear_operator\\utils\\cholesky.py:40: NumericalWarning: A not p.d., added jitter of 1.0e-08 to the diagonal\n",
      "  warnings.warn(\n"
     ]
    },
    {
     "name": "stdout",
     "output_type": "stream",
     "text": [
      "Best Y: 0.2604 at X: tensor([0.1857, 0.0000, 0.0000, 0.0000, 0.0000, 0.0000, 0.0000, 0.0000, 0.0000,\n",
      "        0.0000], dtype=torch.float64)\n",
      "\n",
      " ===Iteration 69===\n",
      "Training with LEARNABLE noise (Gaussian Likelihood).\n"
     ]
    },
    {
     "name": "stderr",
     "output_type": "stream",
     "text": [
      "c:\\Users\\uqkmuroi\\gitcode\\Torch-Practice\\venv\\Lib\\site-packages\\linear_operator\\utils\\cholesky.py:40: NumericalWarning: A not p.d., added jitter of 1.0e-08 to the diagonal\n",
      "  warnings.warn(\n"
     ]
    },
    {
     "name": "stdout",
     "output_type": "stream",
     "text": [
      "Best Y: 0.2604 at X: tensor([0.1857, 0.0000, 0.0000, 0.0000, 0.0000, 0.0000, 0.0000, 0.0000, 0.0000,\n",
      "        0.0000], dtype=torch.float64)\n",
      "\n",
      " ===Iteration 70===\n",
      "Training with LEARNABLE noise (Gaussian Likelihood).\n"
     ]
    },
    {
     "name": "stderr",
     "output_type": "stream",
     "text": [
      "c:\\Users\\uqkmuroi\\gitcode\\Torch-Practice\\venv\\Lib\\site-packages\\linear_operator\\utils\\cholesky.py:40: NumericalWarning: A not p.d., added jitter of 1.0e-08 to the diagonal\n",
      "  warnings.warn(\n"
     ]
    },
    {
     "name": "stdout",
     "output_type": "stream",
     "text": [
      "Best Y: 0.2604 at X: tensor([0.1857, 0.0000, 0.0000, 0.0000, 0.0000, 0.0000, 0.0000, 0.0000, 0.0000,\n",
      "        0.0000], dtype=torch.float64)\n",
      "\n",
      " ===Iteration 71===\n",
      "Training with LEARNABLE noise (Gaussian Likelihood).\n"
     ]
    },
    {
     "name": "stderr",
     "output_type": "stream",
     "text": [
      "c:\\Users\\uqkmuroi\\gitcode\\Torch-Practice\\venv\\Lib\\site-packages\\linear_operator\\utils\\cholesky.py:40: NumericalWarning: A not p.d., added jitter of 1.0e-08 to the diagonal\n",
      "  warnings.warn(\n"
     ]
    },
    {
     "name": "stdout",
     "output_type": "stream",
     "text": [
      "Best Y: 0.2604 at X: tensor([0.1857, 0.0000, 0.0000, 0.0000, 0.0000, 0.0000, 0.0000, 0.0000, 0.0000,\n",
      "        0.0000], dtype=torch.float64)\n",
      "\n",
      " ===Iteration 72===\n",
      "Training with LEARNABLE noise (Gaussian Likelihood).\n"
     ]
    },
    {
     "name": "stderr",
     "output_type": "stream",
     "text": [
      "c:\\Users\\uqkmuroi\\gitcode\\Torch-Practice\\venv\\Lib\\site-packages\\linear_operator\\utils\\cholesky.py:40: NumericalWarning: A not p.d., added jitter of 1.0e-08 to the diagonal\n",
      "  warnings.warn(\n"
     ]
    },
    {
     "name": "stdout",
     "output_type": "stream",
     "text": [
      "Best Y: 0.4842 at X: tensor([0.0000, 0.0000, 0.0000, 0.0000, 0.0000, 0.0000, 0.0000, 0.0000, 0.0000,\n",
      "        0.1603], dtype=torch.float64)\n",
      "\n",
      " ===Iteration 73===\n",
      "Training with LEARNABLE noise (Gaussian Likelihood).\n"
     ]
    },
    {
     "name": "stderr",
     "output_type": "stream",
     "text": [
      "c:\\Users\\uqkmuroi\\gitcode\\Torch-Practice\\venv\\Lib\\site-packages\\linear_operator\\utils\\cholesky.py:40: NumericalWarning: A not p.d., added jitter of 1.0e-08 to the diagonal\n",
      "  warnings.warn(\n"
     ]
    },
    {
     "name": "stdout",
     "output_type": "stream",
     "text": [
      "Best Y: 0.4842 at X: tensor([0.0000, 0.0000, 0.0000, 0.0000, 0.0000, 0.0000, 0.0000, 0.0000, 0.0000,\n",
      "        0.1603], dtype=torch.float64)\n",
      "\n",
      " ===Iteration 74===\n",
      "Training with LEARNABLE noise (Gaussian Likelihood).\n"
     ]
    },
    {
     "name": "stderr",
     "output_type": "stream",
     "text": [
      "c:\\Users\\uqkmuroi\\gitcode\\Torch-Practice\\venv\\Lib\\site-packages\\linear_operator\\utils\\cholesky.py:40: NumericalWarning: A not p.d., added jitter of 1.0e-08 to the diagonal\n",
      "  warnings.warn(\n"
     ]
    },
    {
     "name": "stdout",
     "output_type": "stream",
     "text": [
      "Best Y: 0.4842 at X: tensor([0.0000, 0.0000, 0.0000, 0.0000, 0.0000, 0.0000, 0.0000, 0.0000, 0.0000,\n",
      "        0.1603], dtype=torch.float64)\n",
      "\n",
      " ===Iteration 75===\n",
      "Training with LEARNABLE noise (Gaussian Likelihood).\n"
     ]
    },
    {
     "name": "stderr",
     "output_type": "stream",
     "text": [
      "c:\\Users\\uqkmuroi\\gitcode\\Torch-Practice\\venv\\Lib\\site-packages\\linear_operator\\utils\\cholesky.py:40: NumericalWarning: A not p.d., added jitter of 1.0e-08 to the diagonal\n",
      "  warnings.warn(\n"
     ]
    },
    {
     "name": "stdout",
     "output_type": "stream",
     "text": [
      "Best Y: 0.4842 at X: tensor([0.0000, 0.0000, 0.0000, 0.0000, 0.0000, 0.0000, 0.0000, 0.0000, 0.0000,\n",
      "        0.1603], dtype=torch.float64)\n",
      "\n",
      " ===Iteration 76===\n",
      "Training with LEARNABLE noise (Gaussian Likelihood).\n"
     ]
    },
    {
     "name": "stderr",
     "output_type": "stream",
     "text": [
      "c:\\Users\\uqkmuroi\\gitcode\\Torch-Practice\\venv\\Lib\\site-packages\\linear_operator\\utils\\cholesky.py:40: NumericalWarning: A not p.d., added jitter of 1.0e-08 to the diagonal\n",
      "  warnings.warn(\n"
     ]
    },
    {
     "name": "stdout",
     "output_type": "stream",
     "text": [
      "Best Y: 0.8848 at X: tensor([0.1043, 0.0000, 0.0000, 0.0000, 0.0000, 0.0000, 0.0000, 0.0000, 0.0000,\n",
      "        0.0000], dtype=torch.float64)\n",
      "\n",
      " ===Iteration 77===\n",
      "Training with LEARNABLE noise (Gaussian Likelihood).\n"
     ]
    },
    {
     "name": "stderr",
     "output_type": "stream",
     "text": [
      "c:\\Users\\uqkmuroi\\gitcode\\Torch-Practice\\venv\\Lib\\site-packages\\linear_operator\\utils\\cholesky.py:40: NumericalWarning: A not p.d., added jitter of 1.0e-08 to the diagonal\n",
      "  warnings.warn(\n"
     ]
    },
    {
     "name": "stdout",
     "output_type": "stream",
     "text": [
      "Best Y: 0.8848 at X: tensor([0.1043, 0.0000, 0.0000, 0.0000, 0.0000, 0.0000, 0.0000, 0.0000, 0.0000,\n",
      "        0.0000], dtype=torch.float64)\n",
      "\n",
      " ===Iteration 78===\n",
      "Training with LEARNABLE noise (Gaussian Likelihood).\n"
     ]
    },
    {
     "name": "stderr",
     "output_type": "stream",
     "text": [
      "c:\\Users\\uqkmuroi\\gitcode\\Torch-Practice\\venv\\Lib\\site-packages\\linear_operator\\utils\\cholesky.py:40: NumericalWarning: A not p.d., added jitter of 1.0e-08 to the diagonal\n",
      "  warnings.warn(\n"
     ]
    },
    {
     "name": "stdout",
     "output_type": "stream",
     "text": [
      "Best Y: 0.8848 at X: tensor([0.1043, 0.0000, 0.0000, 0.0000, 0.0000, 0.0000, 0.0000, 0.0000, 0.0000,\n",
      "        0.0000], dtype=torch.float64)\n",
      "\n",
      " ===Iteration 79===\n",
      "Training with LEARNABLE noise (Gaussian Likelihood).\n"
     ]
    },
    {
     "name": "stderr",
     "output_type": "stream",
     "text": [
      "c:\\Users\\uqkmuroi\\gitcode\\Torch-Practice\\venv\\Lib\\site-packages\\linear_operator\\utils\\cholesky.py:40: NumericalWarning: A not p.d., added jitter of 1.0e-08 to the diagonal\n",
      "  warnings.warn(\n"
     ]
    },
    {
     "name": "stdout",
     "output_type": "stream",
     "text": [
      "Best Y: 0.8848 at X: tensor([0.1043, 0.0000, 0.0000, 0.0000, 0.0000, 0.0000, 0.0000, 0.0000, 0.0000,\n",
      "        0.0000], dtype=torch.float64)\n",
      "\n",
      " ===Iteration 80===\n",
      "Training with LEARNABLE noise (Gaussian Likelihood).\n"
     ]
    },
    {
     "name": "stderr",
     "output_type": "stream",
     "text": [
      "c:\\Users\\uqkmuroi\\gitcode\\Torch-Practice\\venv\\Lib\\site-packages\\linear_operator\\utils\\cholesky.py:40: NumericalWarning: A not p.d., added jitter of 1.0e-08 to the diagonal\n",
      "  warnings.warn(\n"
     ]
    },
    {
     "name": "stdout",
     "output_type": "stream",
     "text": [
      "Best Y: 0.8848 at X: tensor([0.1043, 0.0000, 0.0000, 0.0000, 0.0000, 0.0000, 0.0000, 0.0000, 0.0000,\n",
      "        0.0000], dtype=torch.float64)\n",
      "\n",
      " ===Iteration 81===\n",
      "Training with LEARNABLE noise (Gaussian Likelihood).\n"
     ]
    },
    {
     "name": "stderr",
     "output_type": "stream",
     "text": [
      "c:\\Users\\uqkmuroi\\gitcode\\Torch-Practice\\venv\\Lib\\site-packages\\linear_operator\\utils\\cholesky.py:40: NumericalWarning: A not p.d., added jitter of 1.0e-08 to the diagonal\n",
      "  warnings.warn(\n"
     ]
    },
    {
     "name": "stdout",
     "output_type": "stream",
     "text": [
      "Best Y: 0.8848 at X: tensor([0.1043, 0.0000, 0.0000, 0.0000, 0.0000, 0.0000, 0.0000, 0.0000, 0.0000,\n",
      "        0.0000], dtype=torch.float64)\n",
      "\n",
      " ===Iteration 82===\n",
      "Training with LEARNABLE noise (Gaussian Likelihood).\n"
     ]
    },
    {
     "name": "stderr",
     "output_type": "stream",
     "text": [
      "c:\\Users\\uqkmuroi\\gitcode\\Torch-Practice\\venv\\Lib\\site-packages\\linear_operator\\utils\\cholesky.py:40: NumericalWarning: A not p.d., added jitter of 1.0e-08 to the diagonal\n",
      "  warnings.warn(\n"
     ]
    },
    {
     "name": "stdout",
     "output_type": "stream",
     "text": [
      "Best Y: 0.8848 at X: tensor([0.1043, 0.0000, 0.0000, 0.0000, 0.0000, 0.0000, 0.0000, 0.0000, 0.0000,\n",
      "        0.0000], dtype=torch.float64)\n",
      "\n",
      " ===Iteration 83===\n",
      "Training with LEARNABLE noise (Gaussian Likelihood).\n"
     ]
    },
    {
     "name": "stderr",
     "output_type": "stream",
     "text": [
      "c:\\Users\\uqkmuroi\\gitcode\\Torch-Practice\\venv\\Lib\\site-packages\\linear_operator\\utils\\cholesky.py:40: NumericalWarning: A not p.d., added jitter of 1.0e-08 to the diagonal\n",
      "  warnings.warn(\n"
     ]
    },
    {
     "name": "stdout",
     "output_type": "stream",
     "text": [
      "Best Y: 0.8848 at X: tensor([0.1043, 0.0000, 0.0000, 0.0000, 0.0000, 0.0000, 0.0000, 0.0000, 0.0000,\n",
      "        0.0000], dtype=torch.float64)\n",
      "\n",
      " ===Iteration 84===\n",
      "Training with LEARNABLE noise (Gaussian Likelihood).\n"
     ]
    },
    {
     "name": "stderr",
     "output_type": "stream",
     "text": [
      "c:\\Users\\uqkmuroi\\gitcode\\Torch-Practice\\venv\\Lib\\site-packages\\linear_operator\\utils\\cholesky.py:40: NumericalWarning: A not p.d., added jitter of 1.0e-08 to the diagonal\n",
      "  warnings.warn(\n"
     ]
    },
    {
     "name": "stdout",
     "output_type": "stream",
     "text": [
      "Best Y: 0.8848 at X: tensor([0.1043, 0.0000, 0.0000, 0.0000, 0.0000, 0.0000, 0.0000, 0.0000, 0.0000,\n",
      "        0.0000], dtype=torch.float64)\n",
      "\n",
      " ===Iteration 85===\n",
      "Training with LEARNABLE noise (Gaussian Likelihood).\n"
     ]
    },
    {
     "name": "stderr",
     "output_type": "stream",
     "text": [
      "c:\\Users\\uqkmuroi\\gitcode\\Torch-Practice\\venv\\Lib\\site-packages\\linear_operator\\utils\\cholesky.py:40: NumericalWarning: A not p.d., added jitter of 1.0e-08 to the diagonal\n",
      "  warnings.warn(\n"
     ]
    },
    {
     "name": "stdout",
     "output_type": "stream",
     "text": [
      "Best Y: 0.8848 at X: tensor([0.1043, 0.0000, 0.0000, 0.0000, 0.0000, 0.0000, 0.0000, 0.0000, 0.0000,\n",
      "        0.0000], dtype=torch.float64)\n",
      "\n",
      " ===Iteration 86===\n",
      "Training with LEARNABLE noise (Gaussian Likelihood).\n"
     ]
    },
    {
     "name": "stderr",
     "output_type": "stream",
     "text": [
      "c:\\Users\\uqkmuroi\\gitcode\\Torch-Practice\\venv\\Lib\\site-packages\\linear_operator\\utils\\cholesky.py:40: NumericalWarning: A not p.d., added jitter of 1.0e-08 to the diagonal\n",
      "  warnings.warn(\n"
     ]
    },
    {
     "name": "stdout",
     "output_type": "stream",
     "text": [
      "Best Y: 0.8848 at X: tensor([0.1043, 0.0000, 0.0000, 0.0000, 0.0000, 0.0000, 0.0000, 0.0000, 0.0000,\n",
      "        0.0000], dtype=torch.float64)\n",
      "\n",
      " ===Iteration 87===\n",
      "Training with LEARNABLE noise (Gaussian Likelihood).\n"
     ]
    },
    {
     "name": "stderr",
     "output_type": "stream",
     "text": [
      "c:\\Users\\uqkmuroi\\gitcode\\Torch-Practice\\venv\\Lib\\site-packages\\linear_operator\\utils\\cholesky.py:40: NumericalWarning: A not p.d., added jitter of 1.0e-08 to the diagonal\n",
      "  warnings.warn(\n"
     ]
    },
    {
     "name": "stdout",
     "output_type": "stream",
     "text": [
      "Best Y: 0.8848 at X: tensor([0.1043, 0.0000, 0.0000, 0.0000, 0.0000, 0.0000, 0.0000, 0.0000, 0.0000,\n",
      "        0.0000], dtype=torch.float64)\n",
      "\n",
      " ===Iteration 88===\n",
      "Training with LEARNABLE noise (Gaussian Likelihood).\n"
     ]
    },
    {
     "name": "stderr",
     "output_type": "stream",
     "text": [
      "c:\\Users\\uqkmuroi\\gitcode\\Torch-Practice\\venv\\Lib\\site-packages\\linear_operator\\utils\\cholesky.py:40: NumericalWarning: A not p.d., added jitter of 1.0e-08 to the diagonal\n",
      "  warnings.warn(\n"
     ]
    },
    {
     "name": "stdout",
     "output_type": "stream",
     "text": [
      "Best Y: 0.8848 at X: tensor([0.1043, 0.0000, 0.0000, 0.0000, 0.0000, 0.0000, 0.0000, 0.0000, 0.0000,\n",
      "        0.0000], dtype=torch.float64)\n",
      "\n",
      " ===Iteration 89===\n",
      "Training with LEARNABLE noise (Gaussian Likelihood).\n"
     ]
    },
    {
     "name": "stderr",
     "output_type": "stream",
     "text": [
      "c:\\Users\\uqkmuroi\\gitcode\\Torch-Practice\\venv\\Lib\\site-packages\\linear_operator\\utils\\cholesky.py:40: NumericalWarning: A not p.d., added jitter of 1.0e-08 to the diagonal\n",
      "  warnings.warn(\n"
     ]
    },
    {
     "name": "stdout",
     "output_type": "stream",
     "text": [
      "Best Y: 0.8848 at X: tensor([0.1043, 0.0000, 0.0000, 0.0000, 0.0000, 0.0000, 0.0000, 0.0000, 0.0000,\n",
      "        0.0000], dtype=torch.float64)\n",
      "\n",
      " ===Iteration 90===\n",
      "Training with LEARNABLE noise (Gaussian Likelihood).\n"
     ]
    },
    {
     "name": "stderr",
     "output_type": "stream",
     "text": [
      "c:\\Users\\uqkmuroi\\gitcode\\Torch-Practice\\venv\\Lib\\site-packages\\linear_operator\\utils\\cholesky.py:40: NumericalWarning: A not p.d., added jitter of 1.0e-08 to the diagonal\n",
      "  warnings.warn(\n"
     ]
    },
    {
     "name": "stdout",
     "output_type": "stream",
     "text": [
      "Best Y: 0.8848 at X: tensor([0.1043, 0.0000, 0.0000, 0.0000, 0.0000, 0.0000, 0.0000, 0.0000, 0.0000,\n",
      "        0.0000], dtype=torch.float64)\n",
      "\n",
      " ===Iteration 91===\n",
      "Training with LEARNABLE noise (Gaussian Likelihood).\n"
     ]
    },
    {
     "name": "stderr",
     "output_type": "stream",
     "text": [
      "c:\\Users\\uqkmuroi\\gitcode\\Torch-Practice\\venv\\Lib\\site-packages\\linear_operator\\utils\\cholesky.py:40: NumericalWarning: A not p.d., added jitter of 1.0e-08 to the diagonal\n",
      "  warnings.warn(\n"
     ]
    },
    {
     "name": "stdout",
     "output_type": "stream",
     "text": [
      "Best Y: 0.8848 at X: tensor([0.1043, 0.0000, 0.0000, 0.0000, 0.0000, 0.0000, 0.0000, 0.0000, 0.0000,\n",
      "        0.0000], dtype=torch.float64)\n",
      "\n",
      " ===Iteration 92===\n",
      "Training with LEARNABLE noise (Gaussian Likelihood).\n"
     ]
    },
    {
     "name": "stderr",
     "output_type": "stream",
     "text": [
      "c:\\Users\\uqkmuroi\\gitcode\\Torch-Practice\\venv\\Lib\\site-packages\\linear_operator\\utils\\cholesky.py:40: NumericalWarning: A not p.d., added jitter of 1.0e-08 to the diagonal\n",
      "  warnings.warn(\n"
     ]
    },
    {
     "name": "stdout",
     "output_type": "stream",
     "text": [
      "Best Y: 0.8848 at X: tensor([0.1043, 0.0000, 0.0000, 0.0000, 0.0000, 0.0000, 0.0000, 0.0000, 0.0000,\n",
      "        0.0000], dtype=torch.float64)\n",
      "\n",
      " ===Iteration 93===\n",
      "Training with LEARNABLE noise (Gaussian Likelihood).\n"
     ]
    },
    {
     "name": "stderr",
     "output_type": "stream",
     "text": [
      "c:\\Users\\uqkmuroi\\gitcode\\Torch-Practice\\venv\\Lib\\site-packages\\linear_operator\\utils\\cholesky.py:40: NumericalWarning: A not p.d., added jitter of 1.0e-08 to the diagonal\n",
      "  warnings.warn(\n"
     ]
    },
    {
     "name": "stdout",
     "output_type": "stream",
     "text": [
      "Best Y: 0.8848 at X: tensor([0.1043, 0.0000, 0.0000, 0.0000, 0.0000, 0.0000, 0.0000, 0.0000, 0.0000,\n",
      "        0.0000], dtype=torch.float64)\n",
      "\n",
      " ===Iteration 94===\n",
      "Training with LEARNABLE noise (Gaussian Likelihood).\n"
     ]
    },
    {
     "name": "stderr",
     "output_type": "stream",
     "text": [
      "c:\\Users\\uqkmuroi\\gitcode\\Torch-Practice\\venv\\Lib\\site-packages\\linear_operator\\utils\\cholesky.py:40: NumericalWarning: A not p.d., added jitter of 1.0e-08 to the diagonal\n",
      "  warnings.warn(\n"
     ]
    },
    {
     "name": "stdout",
     "output_type": "stream",
     "text": [
      "Best Y: 0.8848 at X: tensor([0.1043, 0.0000, 0.0000, 0.0000, 0.0000, 0.0000, 0.0000, 0.0000, 0.0000,\n",
      "        0.0000], dtype=torch.float64)\n",
      "\n",
      " ===Iteration 95===\n",
      "Training with LEARNABLE noise (Gaussian Likelihood).\n"
     ]
    },
    {
     "name": "stderr",
     "output_type": "stream",
     "text": [
      "c:\\Users\\uqkmuroi\\gitcode\\Torch-Practice\\venv\\Lib\\site-packages\\linear_operator\\utils\\cholesky.py:40: NumericalWarning: A not p.d., added jitter of 1.0e-08 to the diagonal\n",
      "  warnings.warn(\n"
     ]
    },
    {
     "name": "stdout",
     "output_type": "stream",
     "text": [
      "Best Y: 0.8848 at X: tensor([0.1043, 0.0000, 0.0000, 0.0000, 0.0000, 0.0000, 0.0000, 0.0000, 0.0000,\n",
      "        0.0000], dtype=torch.float64)\n",
      "\n",
      " ===Iteration 96===\n",
      "Training with LEARNABLE noise (Gaussian Likelihood).\n"
     ]
    },
    {
     "name": "stderr",
     "output_type": "stream",
     "text": [
      "c:\\Users\\uqkmuroi\\gitcode\\Torch-Practice\\venv\\Lib\\site-packages\\linear_operator\\utils\\cholesky.py:40: NumericalWarning: A not p.d., added jitter of 1.0e-08 to the diagonal\n",
      "  warnings.warn(\n"
     ]
    },
    {
     "name": "stdout",
     "output_type": "stream",
     "text": [
      "Best Y: 0.8848 at X: tensor([0.1043, 0.0000, 0.0000, 0.0000, 0.0000, 0.0000, 0.0000, 0.0000, 0.0000,\n",
      "        0.0000], dtype=torch.float64)\n",
      "\n",
      " ===Iteration 97===\n",
      "Training with LEARNABLE noise (Gaussian Likelihood).\n"
     ]
    },
    {
     "name": "stderr",
     "output_type": "stream",
     "text": [
      "c:\\Users\\uqkmuroi\\gitcode\\Torch-Practice\\venv\\Lib\\site-packages\\linear_operator\\utils\\cholesky.py:40: NumericalWarning: A not p.d., added jitter of 1.0e-08 to the diagonal\n",
      "  warnings.warn(\n"
     ]
    },
    {
     "name": "stdout",
     "output_type": "stream",
     "text": [
      "Best Y: 0.8848 at X: tensor([0.1043, 0.0000, 0.0000, 0.0000, 0.0000, 0.0000, 0.0000, 0.0000, 0.0000,\n",
      "        0.0000], dtype=torch.float64)\n",
      "\n",
      " ===Iteration 98===\n",
      "Training with LEARNABLE noise (Gaussian Likelihood).\n"
     ]
    },
    {
     "name": "stderr",
     "output_type": "stream",
     "text": [
      "c:\\Users\\uqkmuroi\\gitcode\\Torch-Practice\\venv\\Lib\\site-packages\\linear_operator\\utils\\cholesky.py:40: NumericalWarning: A not p.d., added jitter of 1.0e-08 to the diagonal\n",
      "  warnings.warn(\n"
     ]
    },
    {
     "name": "stdout",
     "output_type": "stream",
     "text": [
      "Best Y: 0.8848 at X: tensor([0.1043, 0.0000, 0.0000, 0.0000, 0.0000, 0.0000, 0.0000, 0.0000, 0.0000,\n",
      "        0.0000], dtype=torch.float64)\n",
      "\n",
      " ===Iteration 99===\n",
      "Training with LEARNABLE noise (Gaussian Likelihood).\n"
     ]
    },
    {
     "name": "stderr",
     "output_type": "stream",
     "text": [
      "c:\\Users\\uqkmuroi\\gitcode\\Torch-Practice\\venv\\Lib\\site-packages\\linear_operator\\utils\\cholesky.py:40: NumericalWarning: A not p.d., added jitter of 1.0e-08 to the diagonal\n",
      "  warnings.warn(\n"
     ]
    },
    {
     "name": "stdout",
     "output_type": "stream",
     "text": [
      "Best Y: 0.8848 at X: tensor([0.1043, 0.0000, 0.0000, 0.0000, 0.0000, 0.0000, 0.0000, 0.0000, 0.0000,\n",
      "        0.0000], dtype=torch.float64)\n",
      "\n",
      " ===Iteration 100===\n",
      "Training with LEARNABLE noise (Gaussian Likelihood).\n"
     ]
    },
    {
     "name": "stderr",
     "output_type": "stream",
     "text": [
      "c:\\Users\\uqkmuroi\\gitcode\\Torch-Practice\\venv\\Lib\\site-packages\\linear_operator\\utils\\cholesky.py:40: NumericalWarning: A not p.d., added jitter of 1.0e-08 to the diagonal\n",
      "  warnings.warn(\n"
     ]
    },
    {
     "name": "stdout",
     "output_type": "stream",
     "text": [
      "Best Y: 0.8848 at X: tensor([0.1043, 0.0000, 0.0000, 0.0000, 0.0000, 0.0000, 0.0000, 0.0000, 0.0000,\n",
      "        0.0000], dtype=torch.float64)\n",
      "\n",
      " ===Iteration 101===\n",
      "Training with LEARNABLE noise (Gaussian Likelihood).\n"
     ]
    },
    {
     "name": "stderr",
     "output_type": "stream",
     "text": [
      "c:\\Users\\uqkmuroi\\gitcode\\Torch-Practice\\venv\\Lib\\site-packages\\linear_operator\\utils\\cholesky.py:40: NumericalWarning: A not p.d., added jitter of 1.0e-08 to the diagonal\n",
      "  warnings.warn(\n"
     ]
    },
    {
     "name": "stdout",
     "output_type": "stream",
     "text": [
      "Best Y: 1.4273 at X: tensor([0., 0., 0., 0., 0., 0., 0., 0., 0., 0.], dtype=torch.float64)\n",
      "\n",
      " ===Iteration 102===\n",
      "Training with LEARNABLE noise (Gaussian Likelihood).\n"
     ]
    },
    {
     "name": "stderr",
     "output_type": "stream",
     "text": [
      "c:\\Users\\uqkmuroi\\gitcode\\Torch-Practice\\venv\\Lib\\site-packages\\linear_operator\\utils\\cholesky.py:40: NumericalWarning: A not p.d., added jitter of 1.0e-08 to the diagonal\n",
      "  warnings.warn(\n"
     ]
    },
    {
     "name": "stdout",
     "output_type": "stream",
     "text": [
      "Best Y: 1.4273 at X: tensor([0., 0., 0., 0., 0., 0., 0., 0., 0., 0.], dtype=torch.float64)\n",
      "\n",
      " ===Iteration 103===\n",
      "Training with LEARNABLE noise (Gaussian Likelihood).\n"
     ]
    },
    {
     "name": "stderr",
     "output_type": "stream",
     "text": [
      "c:\\Users\\uqkmuroi\\gitcode\\Torch-Practice\\venv\\Lib\\site-packages\\linear_operator\\utils\\cholesky.py:40: NumericalWarning: A not p.d., added jitter of 1.0e-08 to the diagonal\n",
      "  warnings.warn(\n"
     ]
    },
    {
     "name": "stdout",
     "output_type": "stream",
     "text": [
      "Best Y: 1.4273 at X: tensor([0., 0., 0., 0., 0., 0., 0., 0., 0., 0.], dtype=torch.float64)\n",
      "\n",
      " ===Iteration 104===\n",
      "Training with LEARNABLE noise (Gaussian Likelihood).\n"
     ]
    },
    {
     "name": "stderr",
     "output_type": "stream",
     "text": [
      "c:\\Users\\uqkmuroi\\gitcode\\Torch-Practice\\venv\\Lib\\site-packages\\linear_operator\\utils\\cholesky.py:40: NumericalWarning: A not p.d., added jitter of 1.0e-08 to the diagonal\n",
      "  warnings.warn(\n"
     ]
    },
    {
     "name": "stdout",
     "output_type": "stream",
     "text": [
      "Best Y: 1.4273 at X: tensor([0., 0., 0., 0., 0., 0., 0., 0., 0., 0.], dtype=torch.float64)\n",
      "\n",
      " ===Iteration 105===\n",
      "Training with LEARNABLE noise (Gaussian Likelihood).\n"
     ]
    },
    {
     "name": "stderr",
     "output_type": "stream",
     "text": [
      "c:\\Users\\uqkmuroi\\gitcode\\Torch-Practice\\venv\\Lib\\site-packages\\linear_operator\\utils\\cholesky.py:40: NumericalWarning: A not p.d., added jitter of 1.0e-08 to the diagonal\n",
      "  warnings.warn(\n"
     ]
    },
    {
     "name": "stdout",
     "output_type": "stream",
     "text": [
      "Best Y: 1.4273 at X: tensor([0., 0., 0., 0., 0., 0., 0., 0., 0., 0.], dtype=torch.float64)\n",
      "\n",
      " ===Iteration 106===\n",
      "Training with LEARNABLE noise (Gaussian Likelihood).\n"
     ]
    },
    {
     "name": "stderr",
     "output_type": "stream",
     "text": [
      "c:\\Users\\uqkmuroi\\gitcode\\Torch-Practice\\venv\\Lib\\site-packages\\linear_operator\\utils\\cholesky.py:40: NumericalWarning: A not p.d., added jitter of 1.0e-08 to the diagonal\n",
      "  warnings.warn(\n"
     ]
    },
    {
     "name": "stdout",
     "output_type": "stream",
     "text": [
      "Best Y: 1.4273 at X: tensor([0., 0., 0., 0., 0., 0., 0., 0., 0., 0.], dtype=torch.float64)\n",
      "\n",
      " ===Iteration 107===\n",
      "Training with LEARNABLE noise (Gaussian Likelihood).\n"
     ]
    },
    {
     "name": "stderr",
     "output_type": "stream",
     "text": [
      "c:\\Users\\uqkmuroi\\gitcode\\Torch-Practice\\venv\\Lib\\site-packages\\linear_operator\\utils\\cholesky.py:40: NumericalWarning: A not p.d., added jitter of 1.0e-08 to the diagonal\n",
      "  warnings.warn(\n"
     ]
    },
    {
     "name": "stdout",
     "output_type": "stream",
     "text": [
      "Best Y: 1.4273 at X: tensor([0., 0., 0., 0., 0., 0., 0., 0., 0., 0.], dtype=torch.float64)\n",
      "\n",
      " ===Iteration 108===\n",
      "Training with LEARNABLE noise (Gaussian Likelihood).\n"
     ]
    },
    {
     "name": "stderr",
     "output_type": "stream",
     "text": [
      "c:\\Users\\uqkmuroi\\gitcode\\Torch-Practice\\venv\\Lib\\site-packages\\linear_operator\\utils\\cholesky.py:40: NumericalWarning: A not p.d., added jitter of 1.0e-08 to the diagonal\n",
      "  warnings.warn(\n"
     ]
    },
    {
     "name": "stdout",
     "output_type": "stream",
     "text": [
      "Best Y: 1.4273 at X: tensor([0., 0., 0., 0., 0., 0., 0., 0., 0., 0.], dtype=torch.float64)\n",
      "\n",
      " ===Iteration 109===\n",
      "Training with LEARNABLE noise (Gaussian Likelihood).\n"
     ]
    },
    {
     "name": "stderr",
     "output_type": "stream",
     "text": [
      "c:\\Users\\uqkmuroi\\gitcode\\Torch-Practice\\venv\\Lib\\site-packages\\linear_operator\\utils\\cholesky.py:40: NumericalWarning: A not p.d., added jitter of 1.0e-08 to the diagonal\n",
      "  warnings.warn(\n"
     ]
    },
    {
     "name": "stdout",
     "output_type": "stream",
     "text": [
      "Best Y: 1.4273 at X: tensor([0., 0., 0., 0., 0., 0., 0., 0., 0., 0.], dtype=torch.float64)\n",
      "\n",
      " ===Iteration 110===\n",
      "Training with LEARNABLE noise (Gaussian Likelihood).\n"
     ]
    },
    {
     "name": "stderr",
     "output_type": "stream",
     "text": [
      "c:\\Users\\uqkmuroi\\gitcode\\Torch-Practice\\venv\\Lib\\site-packages\\linear_operator\\utils\\cholesky.py:40: NumericalWarning: A not p.d., added jitter of 1.0e-08 to the diagonal\n",
      "  warnings.warn(\n"
     ]
    },
    {
     "name": "stdout",
     "output_type": "stream",
     "text": [
      "Best Y: 1.4273 at X: tensor([0., 0., 0., 0., 0., 0., 0., 0., 0., 0.], dtype=torch.float64)\n",
      "\n",
      " ===Iteration 111===\n",
      "Training with LEARNABLE noise (Gaussian Likelihood).\n"
     ]
    },
    {
     "name": "stderr",
     "output_type": "stream",
     "text": [
      "c:\\Users\\uqkmuroi\\gitcode\\Torch-Practice\\venv\\Lib\\site-packages\\linear_operator\\utils\\cholesky.py:40: NumericalWarning: A not p.d., added jitter of 1.0e-08 to the diagonal\n",
      "  warnings.warn(\n"
     ]
    },
    {
     "name": "stdout",
     "output_type": "stream",
     "text": [
      "Best Y: 1.4273 at X: tensor([0., 0., 0., 0., 0., 0., 0., 0., 0., 0.], dtype=torch.float64)\n",
      "\n",
      " ===Iteration 112===\n",
      "Training with LEARNABLE noise (Gaussian Likelihood).\n"
     ]
    },
    {
     "name": "stderr",
     "output_type": "stream",
     "text": [
      "c:\\Users\\uqkmuroi\\gitcode\\Torch-Practice\\venv\\Lib\\site-packages\\linear_operator\\utils\\cholesky.py:40: NumericalWarning: A not p.d., added jitter of 1.0e-08 to the diagonal\n",
      "  warnings.warn(\n"
     ]
    },
    {
     "name": "stdout",
     "output_type": "stream",
     "text": [
      "Best Y: 1.4273 at X: tensor([0., 0., 0., 0., 0., 0., 0., 0., 0., 0.], dtype=torch.float64)\n",
      "\n",
      " ===Iteration 113===\n",
      "Training with LEARNABLE noise (Gaussian Likelihood).\n"
     ]
    },
    {
     "name": "stderr",
     "output_type": "stream",
     "text": [
      "c:\\Users\\uqkmuroi\\gitcode\\Torch-Practice\\venv\\Lib\\site-packages\\linear_operator\\utils\\cholesky.py:40: NumericalWarning: A not p.d., added jitter of 1.0e-08 to the diagonal\n",
      "  warnings.warn(\n"
     ]
    },
    {
     "name": "stdout",
     "output_type": "stream",
     "text": [
      "Best Y: 1.4273 at X: tensor([0., 0., 0., 0., 0., 0., 0., 0., 0., 0.], dtype=torch.float64)\n",
      "\n",
      " ===Iteration 114===\n",
      "Training with LEARNABLE noise (Gaussian Likelihood).\n"
     ]
    },
    {
     "name": "stderr",
     "output_type": "stream",
     "text": [
      "c:\\Users\\uqkmuroi\\gitcode\\Torch-Practice\\venv\\Lib\\site-packages\\linear_operator\\utils\\cholesky.py:40: NumericalWarning: A not p.d., added jitter of 1.0e-08 to the diagonal\n",
      "  warnings.warn(\n"
     ]
    },
    {
     "name": "stdout",
     "output_type": "stream",
     "text": [
      "Best Y: 1.4273 at X: tensor([0., 0., 0., 0., 0., 0., 0., 0., 0., 0.], dtype=torch.float64)\n",
      "\n",
      " ===Iteration 115===\n",
      "Training with LEARNABLE noise (Gaussian Likelihood).\n"
     ]
    },
    {
     "name": "stderr",
     "output_type": "stream",
     "text": [
      "c:\\Users\\uqkmuroi\\gitcode\\Torch-Practice\\venv\\Lib\\site-packages\\linear_operator\\utils\\cholesky.py:40: NumericalWarning: A not p.d., added jitter of 1.0e-08 to the diagonal\n",
      "  warnings.warn(\n"
     ]
    },
    {
     "name": "stdout",
     "output_type": "stream",
     "text": [
      "Best Y: 1.4273 at X: tensor([0., 0., 0., 0., 0., 0., 0., 0., 0., 0.], dtype=torch.float64)\n",
      "\n",
      " ===Iteration 116===\n",
      "Training with LEARNABLE noise (Gaussian Likelihood).\n"
     ]
    },
    {
     "name": "stderr",
     "output_type": "stream",
     "text": [
      "c:\\Users\\uqkmuroi\\gitcode\\Torch-Practice\\venv\\Lib\\site-packages\\linear_operator\\utils\\cholesky.py:40: NumericalWarning: A not p.d., added jitter of 1.0e-08 to the diagonal\n",
      "  warnings.warn(\n"
     ]
    },
    {
     "name": "stdout",
     "output_type": "stream",
     "text": [
      "Best Y: 1.4273 at X: tensor([0., 0., 0., 0., 0., 0., 0., 0., 0., 0.], dtype=torch.float64)\n",
      "\n",
      " ===Iteration 117===\n",
      "Training with LEARNABLE noise (Gaussian Likelihood).\n"
     ]
    },
    {
     "name": "stderr",
     "output_type": "stream",
     "text": [
      "c:\\Users\\uqkmuroi\\gitcode\\Torch-Practice\\venv\\Lib\\site-packages\\linear_operator\\utils\\cholesky.py:40: NumericalWarning: A not p.d., added jitter of 1.0e-08 to the diagonal\n",
      "  warnings.warn(\n"
     ]
    },
    {
     "name": "stdout",
     "output_type": "stream",
     "text": [
      "Best Y: 1.4273 at X: tensor([0., 0., 0., 0., 0., 0., 0., 0., 0., 0.], dtype=torch.float64)\n",
      "\n",
      " ===Iteration 118===\n",
      "Training with LEARNABLE noise (Gaussian Likelihood).\n"
     ]
    },
    {
     "name": "stderr",
     "output_type": "stream",
     "text": [
      "c:\\Users\\uqkmuroi\\gitcode\\Torch-Practice\\venv\\Lib\\site-packages\\linear_operator\\utils\\cholesky.py:40: NumericalWarning: A not p.d., added jitter of 1.0e-08 to the diagonal\n",
      "  warnings.warn(\n"
     ]
    },
    {
     "name": "stdout",
     "output_type": "stream",
     "text": [
      "Best Y: 1.4273 at X: tensor([0., 0., 0., 0., 0., 0., 0., 0., 0., 0.], dtype=torch.float64)\n",
      "\n",
      " ===Iteration 119===\n",
      "Training with LEARNABLE noise (Gaussian Likelihood).\n"
     ]
    },
    {
     "name": "stderr",
     "output_type": "stream",
     "text": [
      "c:\\Users\\uqkmuroi\\gitcode\\Torch-Practice\\venv\\Lib\\site-packages\\linear_operator\\utils\\cholesky.py:40: NumericalWarning: A not p.d., added jitter of 1.0e-08 to the diagonal\n",
      "  warnings.warn(\n"
     ]
    },
    {
     "name": "stdout",
     "output_type": "stream",
     "text": [
      "Best Y: 1.4273 at X: tensor([0., 0., 0., 0., 0., 0., 0., 0., 0., 0.], dtype=torch.float64)\n",
      "\n",
      " ===Iteration 120===\n",
      "Training with LEARNABLE noise (Gaussian Likelihood).\n"
     ]
    },
    {
     "name": "stderr",
     "output_type": "stream",
     "text": [
      "c:\\Users\\uqkmuroi\\gitcode\\Torch-Practice\\venv\\Lib\\site-packages\\linear_operator\\utils\\cholesky.py:40: NumericalWarning: A not p.d., added jitter of 1.0e-08 to the diagonal\n",
      "  warnings.warn(\n"
     ]
    },
    {
     "name": "stdout",
     "output_type": "stream",
     "text": [
      "Best Y: 1.4273 at X: tensor([0., 0., 0., 0., 0., 0., 0., 0., 0., 0.], dtype=torch.float64)\n",
      "\n",
      " ===Iteration 121===\n",
      "Training with LEARNABLE noise (Gaussian Likelihood).\n"
     ]
    },
    {
     "name": "stderr",
     "output_type": "stream",
     "text": [
      "c:\\Users\\uqkmuroi\\gitcode\\Torch-Practice\\venv\\Lib\\site-packages\\linear_operator\\utils\\cholesky.py:40: NumericalWarning: A not p.d., added jitter of 1.0e-08 to the diagonal\n",
      "  warnings.warn(\n"
     ]
    },
    {
     "name": "stdout",
     "output_type": "stream",
     "text": [
      "Best Y: 1.4273 at X: tensor([0., 0., 0., 0., 0., 0., 0., 0., 0., 0.], dtype=torch.float64)\n",
      "\n",
      " ===Iteration 122===\n",
      "Training with LEARNABLE noise (Gaussian Likelihood).\n"
     ]
    },
    {
     "name": "stderr",
     "output_type": "stream",
     "text": [
      "c:\\Users\\uqkmuroi\\gitcode\\Torch-Practice\\venv\\Lib\\site-packages\\linear_operator\\utils\\cholesky.py:40: NumericalWarning: A not p.d., added jitter of 1.0e-08 to the diagonal\n",
      "  warnings.warn(\n"
     ]
    },
    {
     "name": "stdout",
     "output_type": "stream",
     "text": [
      "Best Y: 1.4273 at X: tensor([0., 0., 0., 0., 0., 0., 0., 0., 0., 0.], dtype=torch.float64)\n",
      "\n",
      " ===Iteration 123===\n",
      "Training with LEARNABLE noise (Gaussian Likelihood).\n"
     ]
    },
    {
     "name": "stderr",
     "output_type": "stream",
     "text": [
      "c:\\Users\\uqkmuroi\\gitcode\\Torch-Practice\\venv\\Lib\\site-packages\\linear_operator\\utils\\cholesky.py:40: NumericalWarning: A not p.d., added jitter of 1.0e-08 to the diagonal\n",
      "  warnings.warn(\n"
     ]
    },
    {
     "name": "stdout",
     "output_type": "stream",
     "text": [
      "Best Y: 1.4273 at X: tensor([0., 0., 0., 0., 0., 0., 0., 0., 0., 0.], dtype=torch.float64)\n",
      "\n",
      " ===Iteration 124===\n",
      "Training with LEARNABLE noise (Gaussian Likelihood).\n"
     ]
    },
    {
     "name": "stderr",
     "output_type": "stream",
     "text": [
      "c:\\Users\\uqkmuroi\\gitcode\\Torch-Practice\\venv\\Lib\\site-packages\\linear_operator\\utils\\cholesky.py:40: NumericalWarning: A not p.d., added jitter of 1.0e-08 to the diagonal\n",
      "  warnings.warn(\n"
     ]
    },
    {
     "name": "stdout",
     "output_type": "stream",
     "text": [
      "Best Y: 1.4273 at X: tensor([0., 0., 0., 0., 0., 0., 0., 0., 0., 0.], dtype=torch.float64)\n",
      "\n",
      " ===Iteration 125===\n",
      "Training with LEARNABLE noise (Gaussian Likelihood).\n"
     ]
    },
    {
     "name": "stderr",
     "output_type": "stream",
     "text": [
      "c:\\Users\\uqkmuroi\\gitcode\\Torch-Practice\\venv\\Lib\\site-packages\\linear_operator\\utils\\cholesky.py:40: NumericalWarning: A not p.d., added jitter of 1.0e-08 to the diagonal\n",
      "  warnings.warn(\n"
     ]
    },
    {
     "name": "stdout",
     "output_type": "stream",
     "text": [
      "Best Y: 1.4273 at X: tensor([0., 0., 0., 0., 0., 0., 0., 0., 0., 0.], dtype=torch.float64)\n",
      "\n",
      " ===Iteration 126===\n",
      "Training with LEARNABLE noise (Gaussian Likelihood).\n"
     ]
    },
    {
     "name": "stderr",
     "output_type": "stream",
     "text": [
      "c:\\Users\\uqkmuroi\\gitcode\\Torch-Practice\\venv\\Lib\\site-packages\\linear_operator\\utils\\cholesky.py:40: NumericalWarning: A not p.d., added jitter of 1.0e-08 to the diagonal\n",
      "  warnings.warn(\n"
     ]
    },
    {
     "name": "stdout",
     "output_type": "stream",
     "text": [
      "Best Y: 1.4273 at X: tensor([0., 0., 0., 0., 0., 0., 0., 0., 0., 0.], dtype=torch.float64)\n",
      "\n",
      " ===Iteration 127===\n",
      "Training with LEARNABLE noise (Gaussian Likelihood).\n"
     ]
    },
    {
     "name": "stderr",
     "output_type": "stream",
     "text": [
      "c:\\Users\\uqkmuroi\\gitcode\\Torch-Practice\\venv\\Lib\\site-packages\\linear_operator\\utils\\cholesky.py:40: NumericalWarning: A not p.d., added jitter of 1.0e-08 to the diagonal\n",
      "  warnings.warn(\n"
     ]
    },
    {
     "name": "stdout",
     "output_type": "stream",
     "text": [
      "Best Y: 1.4273 at X: tensor([0., 0., 0., 0., 0., 0., 0., 0., 0., 0.], dtype=torch.float64)\n",
      "\n",
      " ===Iteration 128===\n",
      "Training with LEARNABLE noise (Gaussian Likelihood).\n"
     ]
    },
    {
     "name": "stderr",
     "output_type": "stream",
     "text": [
      "c:\\Users\\uqkmuroi\\gitcode\\Torch-Practice\\venv\\Lib\\site-packages\\linear_operator\\utils\\cholesky.py:40: NumericalWarning: A not p.d., added jitter of 1.0e-08 to the diagonal\n",
      "  warnings.warn(\n"
     ]
    },
    {
     "name": "stdout",
     "output_type": "stream",
     "text": [
      "Best Y: 1.4273 at X: tensor([0., 0., 0., 0., 0., 0., 0., 0., 0., 0.], dtype=torch.float64)\n",
      "\n",
      " ===Iteration 129===\n",
      "Training with LEARNABLE noise (Gaussian Likelihood).\n"
     ]
    },
    {
     "name": "stderr",
     "output_type": "stream",
     "text": [
      "c:\\Users\\uqkmuroi\\gitcode\\Torch-Practice\\venv\\Lib\\site-packages\\linear_operator\\utils\\cholesky.py:40: NumericalWarning: A not p.d., added jitter of 1.0e-08 to the diagonal\n",
      "  warnings.warn(\n"
     ]
    },
    {
     "name": "stdout",
     "output_type": "stream",
     "text": [
      "Best Y: 1.4273 at X: tensor([0., 0., 0., 0., 0., 0., 0., 0., 0., 0.], dtype=torch.float64)\n",
      "\n",
      " ===Iteration 130===\n",
      "Training with LEARNABLE noise (Gaussian Likelihood).\n"
     ]
    },
    {
     "name": "stderr",
     "output_type": "stream",
     "text": [
      "c:\\Users\\uqkmuroi\\gitcode\\Torch-Practice\\venv\\Lib\\site-packages\\linear_operator\\utils\\cholesky.py:40: NumericalWarning: A not p.d., added jitter of 1.0e-08 to the diagonal\n",
      "  warnings.warn(\n"
     ]
    },
    {
     "name": "stdout",
     "output_type": "stream",
     "text": [
      "Best Y: 1.4273 at X: tensor([0., 0., 0., 0., 0., 0., 0., 0., 0., 0.], dtype=torch.float64)\n",
      "\n",
      " ===Iteration 131===\n",
      "Training with LEARNABLE noise (Gaussian Likelihood).\n"
     ]
    },
    {
     "name": "stderr",
     "output_type": "stream",
     "text": [
      "c:\\Users\\uqkmuroi\\gitcode\\Torch-Practice\\venv\\Lib\\site-packages\\linear_operator\\utils\\cholesky.py:40: NumericalWarning: A not p.d., added jitter of 1.0e-08 to the diagonal\n",
      "  warnings.warn(\n"
     ]
    },
    {
     "name": "stdout",
     "output_type": "stream",
     "text": [
      "Best Y: 1.4273 at X: tensor([0., 0., 0., 0., 0., 0., 0., 0., 0., 0.], dtype=torch.float64)\n",
      "\n",
      " ===Iteration 132===\n",
      "Training with LEARNABLE noise (Gaussian Likelihood).\n"
     ]
    },
    {
     "name": "stderr",
     "output_type": "stream",
     "text": [
      "c:\\Users\\uqkmuroi\\gitcode\\Torch-Practice\\venv\\Lib\\site-packages\\linear_operator\\utils\\cholesky.py:40: NumericalWarning: A not p.d., added jitter of 1.0e-08 to the diagonal\n",
      "  warnings.warn(\n"
     ]
    },
    {
     "name": "stdout",
     "output_type": "stream",
     "text": [
      "Best Y: 1.4273 at X: tensor([0., 0., 0., 0., 0., 0., 0., 0., 0., 0.], dtype=torch.float64)\n",
      "\n",
      " ===Iteration 133===\n",
      "Training with LEARNABLE noise (Gaussian Likelihood).\n"
     ]
    },
    {
     "name": "stderr",
     "output_type": "stream",
     "text": [
      "c:\\Users\\uqkmuroi\\gitcode\\Torch-Practice\\venv\\Lib\\site-packages\\linear_operator\\utils\\cholesky.py:40: NumericalWarning: A not p.d., added jitter of 1.0e-08 to the diagonal\n",
      "  warnings.warn(\n"
     ]
    },
    {
     "name": "stdout",
     "output_type": "stream",
     "text": [
      "Best Y: 1.4273 at X: tensor([0., 0., 0., 0., 0., 0., 0., 0., 0., 0.], dtype=torch.float64)\n",
      "\n",
      " ===Iteration 134===\n",
      "Training with LEARNABLE noise (Gaussian Likelihood).\n"
     ]
    },
    {
     "name": "stderr",
     "output_type": "stream",
     "text": [
      "c:\\Users\\uqkmuroi\\gitcode\\Torch-Practice\\venv\\Lib\\site-packages\\linear_operator\\utils\\cholesky.py:40: NumericalWarning: A not p.d., added jitter of 1.0e-08 to the diagonal\n",
      "  warnings.warn(\n"
     ]
    },
    {
     "name": "stdout",
     "output_type": "stream",
     "text": [
      "Best Y: 1.4273 at X: tensor([0., 0., 0., 0., 0., 0., 0., 0., 0., 0.], dtype=torch.float64)\n",
      "\n",
      " ===Iteration 135===\n",
      "Training with LEARNABLE noise (Gaussian Likelihood).\n"
     ]
    },
    {
     "name": "stderr",
     "output_type": "stream",
     "text": [
      "c:\\Users\\uqkmuroi\\gitcode\\Torch-Practice\\venv\\Lib\\site-packages\\linear_operator\\utils\\cholesky.py:40: NumericalWarning: A not p.d., added jitter of 1.0e-08 to the diagonal\n",
      "  warnings.warn(\n"
     ]
    },
    {
     "name": "stdout",
     "output_type": "stream",
     "text": [
      "Best Y: 1.4273 at X: tensor([0., 0., 0., 0., 0., 0., 0., 0., 0., 0.], dtype=torch.float64)\n",
      "\n",
      " ===Iteration 136===\n",
      "Training with LEARNABLE noise (Gaussian Likelihood).\n"
     ]
    },
    {
     "name": "stderr",
     "output_type": "stream",
     "text": [
      "c:\\Users\\uqkmuroi\\gitcode\\Torch-Practice\\venv\\Lib\\site-packages\\linear_operator\\utils\\cholesky.py:40: NumericalWarning: A not p.d., added jitter of 1.0e-08 to the diagonal\n",
      "  warnings.warn(\n"
     ]
    },
    {
     "name": "stdout",
     "output_type": "stream",
     "text": [
      "Best Y: 1.4273 at X: tensor([0., 0., 0., 0., 0., 0., 0., 0., 0., 0.], dtype=torch.float64)\n",
      "\n",
      " ===Iteration 137===\n",
      "Training with LEARNABLE noise (Gaussian Likelihood).\n"
     ]
    },
    {
     "name": "stderr",
     "output_type": "stream",
     "text": [
      "c:\\Users\\uqkmuroi\\gitcode\\Torch-Practice\\venv\\Lib\\site-packages\\linear_operator\\utils\\cholesky.py:40: NumericalWarning: A not p.d., added jitter of 1.0e-08 to the diagonal\n",
      "  warnings.warn(\n"
     ]
    },
    {
     "name": "stdout",
     "output_type": "stream",
     "text": [
      "Best Y: 1.4273 at X: tensor([0., 0., 0., 0., 0., 0., 0., 0., 0., 0.], dtype=torch.float64)\n",
      "\n",
      " ===Iteration 138===\n",
      "Training with LEARNABLE noise (Gaussian Likelihood).\n"
     ]
    },
    {
     "name": "stderr",
     "output_type": "stream",
     "text": [
      "c:\\Users\\uqkmuroi\\gitcode\\Torch-Practice\\venv\\Lib\\site-packages\\linear_operator\\utils\\cholesky.py:40: NumericalWarning: A not p.d., added jitter of 1.0e-08 to the diagonal\n",
      "  warnings.warn(\n"
     ]
    },
    {
     "name": "stdout",
     "output_type": "stream",
     "text": [
      "Best Y: 1.4273 at X: tensor([0., 0., 0., 0., 0., 0., 0., 0., 0., 0.], dtype=torch.float64)\n",
      "\n",
      " ===Iteration 139===\n",
      "Training with LEARNABLE noise (Gaussian Likelihood).\n"
     ]
    },
    {
     "name": "stderr",
     "output_type": "stream",
     "text": [
      "c:\\Users\\uqkmuroi\\gitcode\\Torch-Practice\\venv\\Lib\\site-packages\\linear_operator\\utils\\cholesky.py:40: NumericalWarning: A not p.d., added jitter of 1.0e-08 to the diagonal\n",
      "  warnings.warn(\n"
     ]
    },
    {
     "name": "stdout",
     "output_type": "stream",
     "text": [
      "Best Y: 1.4273 at X: tensor([0., 0., 0., 0., 0., 0., 0., 0., 0., 0.], dtype=torch.float64)\n",
      "\n",
      " ===Iteration 140===\n",
      "Training with LEARNABLE noise (Gaussian Likelihood).\n"
     ]
    },
    {
     "name": "stderr",
     "output_type": "stream",
     "text": [
      "c:\\Users\\uqkmuroi\\gitcode\\Torch-Practice\\venv\\Lib\\site-packages\\linear_operator\\utils\\cholesky.py:40: NumericalWarning: A not p.d., added jitter of 1.0e-08 to the diagonal\n",
      "  warnings.warn(\n"
     ]
    },
    {
     "name": "stdout",
     "output_type": "stream",
     "text": [
      "Best Y: 1.4273 at X: tensor([0., 0., 0., 0., 0., 0., 0., 0., 0., 0.], dtype=torch.float64)\n",
      "\n",
      " ===Iteration 141===\n",
      "Training with LEARNABLE noise (Gaussian Likelihood).\n"
     ]
    },
    {
     "name": "stderr",
     "output_type": "stream",
     "text": [
      "c:\\Users\\uqkmuroi\\gitcode\\Torch-Practice\\venv\\Lib\\site-packages\\linear_operator\\utils\\cholesky.py:40: NumericalWarning: A not p.d., added jitter of 1.0e-08 to the diagonal\n",
      "  warnings.warn(\n"
     ]
    },
    {
     "name": "stdout",
     "output_type": "stream",
     "text": [
      "Best Y: 1.4273 at X: tensor([0., 0., 0., 0., 0., 0., 0., 0., 0., 0.], dtype=torch.float64)\n",
      "\n",
      " ===Iteration 142===\n",
      "Training with LEARNABLE noise (Gaussian Likelihood).\n"
     ]
    },
    {
     "name": "stderr",
     "output_type": "stream",
     "text": [
      "c:\\Users\\uqkmuroi\\gitcode\\Torch-Practice\\venv\\Lib\\site-packages\\linear_operator\\utils\\cholesky.py:40: NumericalWarning: A not p.d., added jitter of 1.0e-08 to the diagonal\n",
      "  warnings.warn(\n"
     ]
    },
    {
     "name": "stdout",
     "output_type": "stream",
     "text": [
      "Best Y: 1.4273 at X: tensor([0., 0., 0., 0., 0., 0., 0., 0., 0., 0.], dtype=torch.float64)\n",
      "\n",
      " ===Iteration 143===\n",
      "Training with LEARNABLE noise (Gaussian Likelihood).\n"
     ]
    },
    {
     "name": "stderr",
     "output_type": "stream",
     "text": [
      "c:\\Users\\uqkmuroi\\gitcode\\Torch-Practice\\venv\\Lib\\site-packages\\linear_operator\\utils\\cholesky.py:40: NumericalWarning: A not p.d., added jitter of 1.0e-08 to the diagonal\n",
      "  warnings.warn(\n"
     ]
    },
    {
     "name": "stdout",
     "output_type": "stream",
     "text": [
      "Best Y: 1.4273 at X: tensor([0., 0., 0., 0., 0., 0., 0., 0., 0., 0.], dtype=torch.float64)\n",
      "\n",
      " ===Iteration 144===\n",
      "Training with LEARNABLE noise (Gaussian Likelihood).\n"
     ]
    },
    {
     "name": "stderr",
     "output_type": "stream",
     "text": [
      "c:\\Users\\uqkmuroi\\gitcode\\Torch-Practice\\venv\\Lib\\site-packages\\linear_operator\\utils\\cholesky.py:40: NumericalWarning: A not p.d., added jitter of 1.0e-08 to the diagonal\n",
      "  warnings.warn(\n"
     ]
    },
    {
     "name": "stdout",
     "output_type": "stream",
     "text": [
      "Best Y: 1.4273 at X: tensor([0., 0., 0., 0., 0., 0., 0., 0., 0., 0.], dtype=torch.float64)\n",
      "\n",
      " ===Iteration 145===\n",
      "Training with LEARNABLE noise (Gaussian Likelihood).\n"
     ]
    },
    {
     "name": "stderr",
     "output_type": "stream",
     "text": [
      "c:\\Users\\uqkmuroi\\gitcode\\Torch-Practice\\venv\\Lib\\site-packages\\linear_operator\\utils\\cholesky.py:40: NumericalWarning: A not p.d., added jitter of 1.0e-08 to the diagonal\n",
      "  warnings.warn(\n"
     ]
    },
    {
     "name": "stdout",
     "output_type": "stream",
     "text": [
      "Best Y: 1.4273 at X: tensor([0., 0., 0., 0., 0., 0., 0., 0., 0., 0.], dtype=torch.float64)\n",
      "\n",
      " ===Iteration 146===\n",
      "Training with LEARNABLE noise (Gaussian Likelihood).\n"
     ]
    },
    {
     "name": "stderr",
     "output_type": "stream",
     "text": [
      "c:\\Users\\uqkmuroi\\gitcode\\Torch-Practice\\venv\\Lib\\site-packages\\linear_operator\\utils\\cholesky.py:40: NumericalWarning: A not p.d., added jitter of 1.0e-08 to the diagonal\n",
      "  warnings.warn(\n"
     ]
    },
    {
     "name": "stdout",
     "output_type": "stream",
     "text": [
      "Best Y: 1.4273 at X: tensor([0., 0., 0., 0., 0., 0., 0., 0., 0., 0.], dtype=torch.float64)\n",
      "\n",
      " ===Iteration 147===\n",
      "Training with LEARNABLE noise (Gaussian Likelihood).\n"
     ]
    },
    {
     "name": "stderr",
     "output_type": "stream",
     "text": [
      "c:\\Users\\uqkmuroi\\gitcode\\Torch-Practice\\venv\\Lib\\site-packages\\linear_operator\\utils\\cholesky.py:40: NumericalWarning: A not p.d., added jitter of 1.0e-08 to the diagonal\n",
      "  warnings.warn(\n"
     ]
    },
    {
     "name": "stdout",
     "output_type": "stream",
     "text": [
      "Best Y: 1.4273 at X: tensor([0., 0., 0., 0., 0., 0., 0., 0., 0., 0.], dtype=torch.float64)\n",
      "\n",
      " ===Iteration 148===\n",
      "Training with LEARNABLE noise (Gaussian Likelihood).\n"
     ]
    },
    {
     "name": "stderr",
     "output_type": "stream",
     "text": [
      "c:\\Users\\uqkmuroi\\gitcode\\Torch-Practice\\venv\\Lib\\site-packages\\linear_operator\\utils\\cholesky.py:40: NumericalWarning: A not p.d., added jitter of 1.0e-08 to the diagonal\n",
      "  warnings.warn(\n"
     ]
    },
    {
     "name": "stdout",
     "output_type": "stream",
     "text": [
      "Best Y: 1.4273 at X: tensor([0., 0., 0., 0., 0., 0., 0., 0., 0., 0.], dtype=torch.float64)\n",
      "\n",
      " ===Iteration 149===\n",
      "Training with LEARNABLE noise (Gaussian Likelihood).\n"
     ]
    },
    {
     "name": "stderr",
     "output_type": "stream",
     "text": [
      "c:\\Users\\uqkmuroi\\gitcode\\Torch-Practice\\venv\\Lib\\site-packages\\linear_operator\\utils\\cholesky.py:40: NumericalWarning: A not p.d., added jitter of 1.0e-08 to the diagonal\n",
      "  warnings.warn(\n"
     ]
    },
    {
     "name": "stdout",
     "output_type": "stream",
     "text": [
      "Best Y: 1.4273 at X: tensor([0., 0., 0., 0., 0., 0., 0., 0., 0., 0.], dtype=torch.float64)\n",
      "\n",
      " ===Iteration 150===\n",
      "Training with LEARNABLE noise (Gaussian Likelihood).\n"
     ]
    },
    {
     "name": "stderr",
     "output_type": "stream",
     "text": [
      "c:\\Users\\uqkmuroi\\gitcode\\Torch-Practice\\venv\\Lib\\site-packages\\linear_operator\\utils\\cholesky.py:40: NumericalWarning: A not p.d., added jitter of 1.0e-08 to the diagonal\n",
      "  warnings.warn(\n"
     ]
    },
    {
     "name": "stdout",
     "output_type": "stream",
     "text": [
      "Best Y: 1.4273 at X: tensor([0., 0., 0., 0., 0., 0., 0., 0., 0., 0.], dtype=torch.float64)\n",
      "\n",
      " ===Iteration 151===\n",
      "Training with LEARNABLE noise (Gaussian Likelihood).\n"
     ]
    },
    {
     "name": "stderr",
     "output_type": "stream",
     "text": [
      "c:\\Users\\uqkmuroi\\gitcode\\Torch-Practice\\venv\\Lib\\site-packages\\linear_operator\\utils\\cholesky.py:40: NumericalWarning: A not p.d., added jitter of 1.0e-08 to the diagonal\n",
      "  warnings.warn(\n"
     ]
    }
   ],
   "source": [
    "n_iterations = 200\n",
    "num_restarts =50\n",
    "raw_samples =50\n",
    "batch_size = 1\n",
    "\n",
    "# the multidimensional function (where best answer is 0, where all X = 0)\n",
    "ackley = Ackley(dim=dim, noise_std = noise_std, negate=True) #negate = True to maximize the function\n",
    "\n",
    "train_X = lhs_design\n",
    "train_Y = ackley(train_X).unsqueeze(-1)\n",
    "\n",
    "#print(train_Y, train_Y.shape)\n",
    "\n",
    "for iterations in range (n_iterations):\n",
    "    print(f\"\\n ===Iteration {iterations+1}===\")\n",
    "    # Train the GP model\n",
    "    model, mll = train_GP_model(\n",
    "        train_X, train_Y,\n",
    "        fixed_noise=False,\n",
    "        #noise_level=noise_level,\n",
    "        lengthscale_prior=None,\n",
    "        outputscale_prior=None,\n",
    "        lengthscale_constraint = None, \n",
    "        outputscale_constraint=None\n",
    "    )\n",
    "\n",
    "    model.eval()\n",
    "\n",
    "    acq_func = qLogNoisyExpectedImprovement(model = model,\n",
    "                                            X_baseline=train_X,\n",
    "                                            prune_baseline = True, # default\n",
    "                                            cache_root = True, # default True (uses Cholesky decomposition)\n",
    "                                            )\n",
    "    \n",
    "    #Optimize acq func\n",
    "    candidate, _ = optimize_acqf(\n",
    "        acq_function=acq_func,\n",
    "        q=batch_size,\n",
    "        bounds=bounds,\n",
    "        num_restarts=num_restarts,\n",
    "        raw_samples=raw_samples,\n",
    "    )\n",
    "\n",
    "    new_y = torch.stack([ackley(c.unsqueeze(0)) for c in candidate])\n",
    "\n",
    "    train_X = torch.cat([train_X, candidate], dim=0)\n",
    "    train_Y = torch.cat([train_Y, new_y], dim=0)\n",
    "\n",
    "    best_idx = torch.argmax(train_Y.squeeze(-1))\n",
    "    best_X = train_X[best_idx]\n",
    "    best_Y = train_Y[best_idx].item()\n",
    "    print(f\"Best Y: {best_Y:.4f} at X: {best_X}\")\n",
    "    "
   ]
  }
 ],
 "metadata": {
  "kernelspec": {
   "display_name": "venv",
   "language": "python",
   "name": "python3"
  },
  "language_info": {
   "codemirror_mode": {
    "name": "ipython",
    "version": 3
   },
   "file_extension": ".py",
   "mimetype": "text/x-python",
   "name": "python",
   "nbconvert_exporter": "python",
   "pygments_lexer": "ipython3",
   "version": "3.12.10"
  }
 },
 "nbformat": 4,
 "nbformat_minor": 5
}
