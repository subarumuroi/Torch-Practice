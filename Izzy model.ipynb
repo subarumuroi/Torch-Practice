{
 "cells": [
  {
   "cell_type": "code",
   "execution_count": null,
   "metadata": {},
   "outputs": [
    {
     "name": "stdout",
     "output_type": "stream",
     "text": [
      "The autoreload extension is already loaded. To reload it, use:\n",
      "  %reload_ext autoreload\n"
     ]
    },
    {
     "data": {
      "text/plain": [
       "<torch._C.Generator at 0x22f4cd558f0>"
      ]
     },
     "execution_count": 3,
     "metadata": {},
     "output_type": "execute_result"
    }
   ],
   "source": [
    "#Bayesian Optimization using Gaussian Processes for Hyperparameter Tuning with noisy experimental data.\n",
    "\n",
    "import torch\n",
    "from botorch.models import SingleTaskGP\n",
    "from botorch.fit import fit_gpytorch_mll\n",
    "from gpytorch.mlls import ExactMarginalLogLikelihood\n",
    "from botorch.models.transforms import Standardize, Normalize\n",
    "\n",
    "%matplotlib inline\n",
    "%load_ext autoreload\n",
    "%autoreload 2\n",
    "\n",
    "torch.manual_seed(0)"
   ]
  },
  {
   "cell_type": "code",
   "execution_count": null,
   "metadata": {},
   "outputs": [],
   "source": [
    "# define ititial sample number\n",
    "initial_sample = 24\n",
    "\n",
    "# Define bounds for the parameters\n",
    "bounds = torch.tensor([\n",
    "    [6.0, 20.0],  # Lower bounds ph, temp\n",
    "    [8.0, 40.0]   # Upper bounds ph, temp\n",
    "], dtype=torch.double)\n",
    "\n",
    "def maximin_lhs(initial_sample, bounds, n_candidates = 1000):\n",
    "    if bounds is not None:\n",
    "        bounds = bounds.to(torch.float64)\n",
    "        d = bounds.shape[1] # double check this when adding dimensions\n",
    "    else: \n",
    "        raise ValueError(\"Bounds must be provided to infer dimensionality\")\n",
    "    \n",
    "    best, max_min_dist = None, -float(\"inf\")\n",
    "    for _ in range(n_candidates):\n",
    "        x = (torch.rand(initial_sample, d) + torch.randperm(initial_sample)[:, None])/initial_sample\n",
    "        min_dist = torch.cdist(x, x).add(1e5*torch.eye(initial_sample)).min()\n",
    "        if min_dist > max_min_dist:\n",
    "            best, max_min_dist = x.clone(), min_dist\n",
    "    lower, upper = bounds[0], bounds[1]\n",
    "    best = lower+(upper-lower)* best\n",
    "\n",
    "    return best\n",
    "\n",
    "\n",
    "\n",
    "def objective_function(X, pHopt =7 , temp_opt =35, a = 100, b = 1, c = 1, noise_level = 0.1):\n",
    "    \"\"\"\n",
    "    Simulates a 2D Gaussian-like response surface with controllable noise.\n",
    "\n",
    "    Parameters:\n",
    "    - X: input tensor of shape [n, 2], columns are [pH, temp]\n",
    "    - pHopt, temp_opt: optimal pH and temperature\n",
    "    - a: peak value (must be high enough to keep output positive)\n",
    "    - b, c: curvature coefficients (bigger = narrower peak)\n",
    "    - noise_level: fraction of y to scale the noise (e.g., 0.1 = 10%)\n",
    "\n",
    "    Returns:\n",
    "    - y: simulated noisy response values\n",
    "    \"\"\"\n",
    "    pH, temp = X[:, 0], X[:, 1]\n",
    "    y = a-b*(pH-pHopt)**2 - c*(temp-temp_opt)**2\n",
    "    noise = noise_level * y * torch.randn_like(y)\n",
    "    return y + noise\n",
    "\n",
    "\n",
    "\n",
    "\n",
    "model = SingleTaskGP(train_X, train_y, input_transform = Normalize(d=2), outcome_transform = Standardize(m=1)) # might want to set noise variance (was that through the ExactGP model?)\n",
    "mll = ExactMarginalLogLikelihood(model.likelihood, model)\n",
    "fit_gpytorch_mll(mll)\n",
    "\n",
    "\n"
   ]
  },
  {
   "cell_type": "code",
   "execution_count": null,
   "metadata": {},
   "outputs": [],
   "source": [
    "x_init = maximin_lhs(initial_sample, bounds)\n",
    "print(x_init)"
   ]
  }
 ],
 "metadata": {
  "kernelspec": {
   "display_name": "venv",
   "language": "python",
   "name": "python3"
  },
  "language_info": {
   "codemirror_mode": {
    "name": "ipython",
    "version": 3
   },
   "file_extension": ".py",
   "mimetype": "text/x-python",
   "name": "python",
   "nbconvert_exporter": "python",
   "pygments_lexer": "ipython3",
   "version": "3.12.9"
  }
 },
 "nbformat": 4,
 "nbformat_minor": 2
}
