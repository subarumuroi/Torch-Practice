{
 "cells": [
  {
   "cell_type": "code",
   "execution_count": 1,
   "id": "7ce14c89",
   "metadata": {},
   "outputs": [
    {
     "ename": "SyntaxError",
     "evalue": "invalid syntax (2431776247.py, line 11)",
     "output_type": "error",
     "traceback": [
      "  \u001b[36mCell\u001b[39m\u001b[36m \u001b[39m\u001b[32mIn[1]\u001b[39m\u001b[32m, line 11\u001b[39m\n\u001b[31m    \u001b[39m\u001b[31mtrain_X, train_Y = <your small data set>\u001b[39m\n                       ^\n\u001b[31mSyntaxError\u001b[39m\u001b[31m:\u001b[39m invalid syntax\n"
     ]
    }
   ],
   "source": [
    "# Turbo MODEL\n",
    "\n",
    "from botorch.models.turbo import TurboState\n",
    "from botorch.optim import optimize_acqf\n",
    "from botorch.acquisition import qExpectedImprovement\n",
    "from botorch.models import SingleTaskGP\n",
    "from botorch.fit import fit_gpytorch_model\n",
    "from gpytorch.mlls import ExactMarginalLogLikelihood\n",
    "\n",
    "# Initial data\n",
    "train_X, train_Y = <your small data set>\n",
    "\n",
    "# Fit initial GP\n",
    "gp = SingleTaskGP(train_X, train_Y)\n",
    "mll = ExactMarginalLogLikelihood(gp.likelihood, gp)\n",
    "fit_gpytorch_model(mll)\n",
    "\n",
    "# Set up TuRBO state\n",
    "turbo_state = TurboState(\n",
    "    dim=train_X.shape[-1],\n",
    "    batch_size=1,\n",
    "    length_init=0.8,  # large init trust region\n",
    "    success_tolerance=3,\n",
    "    failure_tolerance=3,\n",
    ")\n",
    "\n",
    "# Main loop\n",
    "for iteration in range(MAX_ITERS):\n",
    "    if turbo_state.restart_triggered:\n",
    "        turbo_state = TurboState(dim=train_X.shape[-1], batch_size=1)\n",
    "\n",
    "    # Define acquisition function\n",
    "    acq = qExpectedImprovement(model=gp, best_f=train_Y.max(), maximize=True)\n",
    "\n",
    "    # Optimize in trust region\n",
    "    candidates, _ = optimize_acqf(\n",
    "        acq_function=acq,\n",
    "        bounds=turbo_state.get_bounds(train_X),\n",
    "        q=1,\n",
    "        num_restarts=5,\n",
    "        raw_samples=100,\n",
    "    )\n",
    "\n",
    "    # Evaluate candidate (real experiment)\n",
    "    new_Y = objective_function(candidates)\n",
    "\n",
    "    # Update data\n",
    "    train_X = torch.cat([train_X, candidates], dim=0)\n",
    "    train_Y = torch.cat([train_Y, new_Y], dim=0)\n",
    "\n",
    "    # Update model\n",
    "    gp.set_train_data(train_X, train_Y, strict=False)\n",
    "    fit_gpytorch_model(ExactMarginalLogLikelihood(gp.likelihood, gp))\n",
    "\n",
    "    # Update TuRBO trust region\n",
    "    turbo_state.update(train_Y[-1])\n"
   ]
  }
 ],
 "metadata": {
  "kernelspec": {
   "display_name": "venv",
   "language": "python",
   "name": "python3"
  },
  "language_info": {
   "codemirror_mode": {
    "name": "ipython",
    "version": 3
   },
   "file_extension": ".py",
   "mimetype": "text/x-python",
   "name": "python",
   "nbconvert_exporter": "python",
   "pygments_lexer": "ipython3",
   "version": "3.13.2"
  }
 },
 "nbformat": 4,
 "nbformat_minor": 5
}
