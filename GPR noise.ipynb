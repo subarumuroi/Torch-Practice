{
 "cells": [
  {
   "cell_type": "markdown",
   "metadata": {},
   "source": [
    "This is a general page for testing differnt types of GPyTorch Model"
   ]
  },
  {
   "cell_type": "markdown",
   "metadata": {},
   "source": [
    "Custom GP model with noise (as a template example of simplest custom model)\n",
    "\n",
    "This one could be useful to illustrate how to add confidence bound in the plots"
   ]
  },
  {
   "cell_type": "code",
   "execution_count": 10,
   "metadata": {},
   "outputs": [
    {
     "name": "stdout",
     "output_type": "stream",
     "text": [
      "Iter 1/100 - Loss: 3.078855514526367\n",
      "Iter 11/100 - Loss: 1.9717966318130493\n",
      "Iter 21/100 - Loss: 1.71285080909729\n",
      "Iter 31/100 - Loss: 1.6187007427215576\n",
      "Iter 41/100 - Loss: 1.5633478164672852\n",
      "Iter 51/100 - Loss: 1.5184382200241089\n",
      "Iter 61/100 - Loss: 1.4958021640777588\n",
      "Iter 71/100 - Loss: 1.4945569038391113\n",
      "Iter 81/100 - Loss: 1.4927973747253418\n",
      "Iter 91/100 - Loss: 1.4926453828811646\n",
      "Mean predictions: tensor([1.6084, 2.5340, 3.5343])\n",
      "Confidence region: tensor([0.8906, 1.8222, 2.8165]) to tensor([2.3262, 3.2457, 4.2521])\n"
     ]
    },
    {
     "data": {
      "image/png": "[encoded data removed]",
      "text/plain": [
       "<Figure size 640x480 with 1 Axes>"
      ]
     },
     "metadata": {},
     "output_type": "display_data"
    }
   ],
   "source": [
    "# Basic Gaussian Process Regression with GPyTorch NOISE!!!!\n",
    "import math\n",
    "import torch\n",
    "import gpytorch\n",
    "from matplotlib import pyplot as plt\n",
    "\n",
    "# Define the model class\n",
    "class GPModel(gpytorch.models.ExactGP):\n",
    "    def __init__(self, train_x, train_y, likelihood):\n",
    "        super(GPModel, self).__init__(train_x, train_y, likelihood)\n",
    "        self.mean_module = gpytorch.means.ConstantMean()\n",
    "        self.covar_module = gpytorch.kernels.RBFKernel()\n",
    "        \n",
    "    def forward(self, x):\n",
    "        # Define the GP forward pass\n",
    "        mean = self.mean_module(x)\n",
    "        covar = self.covar_module(x)\n",
    "        return gpytorch.distributions.MultivariateNormal(mean, covar)\n",
    "\n",
    "# Training data\n",
    "train_x = torch.tensor([[1.0], [2.0], [3.0], [4.0]], dtype=torch.float32)\n",
    "train_y = torch.tensor([1.2, 2.1, 3.0, 4.2], dtype=torch.float32)\n",
    "train_y_noisy = train_y + torch.normal(0, 0.1, size=train_y.shape)  # Add noise\n",
    "\n",
    "# Likelihood models the observation noise\n",
    "likelihood = gpytorch.likelihoods.GaussianLikelihood()\n",
    "\n",
    "# Initialize the model\n",
    "model = GPModel(train_x, train_y_noisy, likelihood)\n",
    "\n",
    "# Set the model into training mode\n",
    "model.train()\n",
    "likelihood.train()\n",
    "\n",
    "# Define the optimizer and loss function\n",
    "optimizer = torch.optim.Adam([\n",
    "    {'params': model.parameters()},  \n",
    "], lr=0.1)\n",
    "mll = gpytorch.mlls.ExactMarginalLogLikelihood(likelihood, model)\n",
    "\n",
    "# Training loop\n",
    "for i in range(100):\n",
    "    optimizer.zero_grad()\n",
    "    output = model(train_x)\n",
    "    loss = -mll(output, train_y_noisy)\n",
    "    loss.backward()\n",
    "    optimizer.step()\n",
    "    if i % 10 == 0:\n",
    "        print(f'Iter {i + 1}/100 - Loss: {loss.item()}')\n",
    "\n",
    "# After training, set the model into evaluation mode\n",
    "model.eval()\n",
    "likelihood.eval()\n",
    "\n",
    "# Make predictions on test data\n",
    "test_x = torch.tensor([[1.5], [2.5], [3.5]], dtype=torch.float32)\n",
    "with torch.no_grad(), gpytorch.settings.fast_pred_var():\n",
    "    pred = model(test_x)\n",
    "    mean = pred.mean\n",
    "    lower, upper = pred.confidence_region()\n",
    "\n",
    "# Print results\n",
    "print(f'Mean predictions: {mean}')\n",
    "print(f'Confidence region: {lower} to {upper}')\n",
    "\n",
    "# Plot results\n",
    "plt.plot(train_x.numpy(), train_y.numpy(), 'k*')\n",
    "plt.plot(test_x.numpy(), mean.numpy(), 'r')\n",
    "plt.fill_between(test_x.numpy().flatten(), lower.numpy().flatten(), upper.numpy().flatten(), color='pink', alpha=0.5)\n",
    "plt.show()\n"
   ]
  },
  {
   "cell_type": "markdown",
   "metadata": {},
   "source": [
    "The following sections is a tutorial on gpytorch hyperparameters from the documents"
   ]
  },
  {
   "cell_type": "code",
   "execution_count": 9,
   "metadata": {},
   "outputs": [],
   "source": [
    "# Understanding gpytorch hyperparameters (uses import from prev cell)\n",
    "import gpytorch\n",
    "import torch\n",
    "import math\n",
    "\n",
    "train_x = torch.linspace(0, 1, 100) # 100 points between 0 and 1\n",
    "train_y = torch.sin(train_x * (2 * math.pi)) + torch.randn(train_x.size()) * 0.2 # Noisy sine wave\n",
    "\n",
    "\n",
    "\n",
    "class ExactGPModel(gpytorch.models.ExactGP):\n",
    "    def __init__(self, train_x, train_y, likelihood):\n",
    "        super(ExactGPModel, self).__init__(train_x, train_y, likelihood)\n",
    "        self.mean_module = gpytorch.means.ConstantMean()\n",
    "        self.covar_module = gpytorch.kernels.ScaleKernel(gpytorch.kernels.RBFKernel())\n",
    "\n",
    "    def forward(self, x):\n",
    "        mean_x = self.mean_module(x)\n",
    "        covar_x = self.covar_module(x)\n",
    "        return gpytorch.distributions.MultivariateNormal(mean_x, covar_x)\n",
    "    \n",
    "#initialize likelihood and model\n",
    "likelihood  = gpytorch.likelihoods.GaussianLikelihood()\n",
    "model = ExactGPModel(train_x, train_y, likelihood)"
   ]
  },
  {
   "cell_type": "code",
   "execution_count": 10,
   "metadata": {},
   "outputs": [
    {
     "name": "stdout",
     "output_type": "stream",
     "text": [
      "Parameter name: likelihood.noise_covar.raw_noise           value = 0.0\n",
      "Parameter name: mean_module.raw_constant                   value = 0.0\n",
      "Parameter name: covar_module.raw_outputscale               value = 0.0\n",
      "Parameter name: covar_module.base_kernel.raw_lengthscale   value = 0.0\n"
     ]
    }
   ],
   "source": [
    "# Let's see what the parameters of this model are (These should be 0s since we haven't trained yet)\n",
    "\n",
    "for param_name, param in model.named_parameters():\n",
    "    print(f'Parameter name: {param_name:42} value = {param.item()}')"
   ]
  },
  {
   "cell_type": "code",
   "execution_count": 26,
   "metadata": {},
   "outputs": [
    {
     "name": "stdout",
     "output_type": "stream",
     "text": [
      "raw outputscale,  Parameter containing:\n",
      "tensor(0., requires_grad=True)\n",
      "\n",
      "raw_outputscale_constraint1 Positive()\n",
      "\n",
      "printing all model constraints:\n",
      "Constraint name: likelihood.noise_covar.raw_noise_constraint             value = GreaterThan(1.000E-04)\n",
      "Constraint name: covar_module.raw_outputscale_constraint                 value = Positive()\n",
      "Constraint name: covar_module.base_kernel.raw_lengthscale_constraint     value = Positive()\n",
      "\n",
      "getting raw outputscale constraint from model.covar_module...\n",
      "Positive()\n"
     ]
    }
   ],
   "source": [
    "#actual learned parameters of the model are things like noise and lengthscale, which must be positive \n",
    "# let's look at the parameter raw_outputscale\n",
    "raw_outputscale = model.covar_module.raw_outputscale\n",
    "print('raw outputscale, ', raw_outputscale)\n",
    "\n",
    "# How can we look at the constraints ( as we want to make sure they are positive)\n",
    "# three different ways\n",
    "\n",
    "#1\n",
    "print('\\nraw_outputscale_constraint1', model.covar_module.raw_outputscale_constraint)\n",
    "#2\n",
    "print('\\nprinting all model constraints:')\n",
    "for constraint_name, constraint in model.named_constraints():\n",
    "    print(f'Constraint name: {constraint_name:55} value = {constraint}')\n",
    "#3\n",
    "print('\\ngetting raw outputscale constraint from model.covar_module...')\n",
    "print(model.covar_module.constraint_for_parameter_name('raw_outputscale')) # this is the same as the first one\n"
   ]
  },
  {
   "cell_type": "code",
   "execution_count": 31,
   "metadata": {},
   "outputs": [
    {
     "name": "stdout",
     "output_type": "stream",
     "text": [
      "Transformed ouputscale tensor(0.6931, grad_fn=<SoftplusBackward0>)\n",
      "tensor(0., grad_fn=<AddBackward0>)\n",
      "True\n",
      "Transform a bunch of negative tensors:  tensor([0.3133, 0.1269, 0.0486])\n"
     ]
    }
   ],
   "source": [
    "# These constraints define 'transform' and 'inverse_transform', which turns raw parameters\n",
    "# into real ones. For a positive constraint, we expect the transformed values to always be positive\n",
    "raw_outputscale = model.covar_module.raw_outputscale\n",
    "constraint = model.covar_module.raw_outputscale_constraint\n",
    "\n",
    "print('Transformed ouputscale', constraint.transform(raw_outputscale))\n",
    "print(constraint.inverse_transform(constraint.transform(raw_outputscale))) # should be same since trans than intrans\n",
    "print(torch.equal(constraint.inverse_transform(constraint.transform(raw_outputscale)), raw_outputscale)) # returns True\n",
    "\n",
    "print('Transform a bunch of negative tensors: ', constraint.transform(torch.tensor([-1.0, -2.0, -3.0])))"
   ]
  },
  {
   "cell_type": "code",
   "execution_count": 36,
   "metadata": {},
   "outputs": [
    {
     "name": "stdout",
     "output_type": "stream",
     "text": [
      "Actual outputscale:  tensor(0.6931, grad_fn=<SoftplusBackward0>)\n",
      "Actual outputscale:  tensor(2., grad_fn=<SoftplusBackward0>)\n",
      "outputscale tensor(0.6931, grad_fn=<SoftplusBackward0>)\n",
      "outputscale tensor(3., grad_fn=<SoftplusBackward0>)\n"
     ]
    }
   ],
   "source": [
    "# obviously, raw parameter values are difficult to work with. Humans understand things like noise variance = 0.01\n",
    "# but we struggle to understand what raw_noise = -2.791 might mean. \n",
    "# all gpytorch modules that define raw parameters define convenience getters and setters for dealing with\n",
    "# transformed values directly.\n",
    "\n",
    "#reset model\n",
    "model = ExactGPModel(train_x, train_y, likelihood)\n",
    "#getting\n",
    "print('Actual outputscale: ', model.covar_module.outputscale)\n",
    "#setting\n",
    "model.covar_module.outputscale = 2.\n",
    "print('Actual outputscale: ', model.covar_module.outputscale)\n",
    "\n",
    "#reset model\n",
    "model = ExactGPModel(train_x, train_y, likelihood)\n",
    "# these are shortcuts to do it the long way which would look like this \n",
    "raw_outputscale = model.covar_module.raw_outputscale\n",
    "constraint = model.covar_module.raw_outputscale_constraint\n",
    "outputscale = constraint.transform(raw_outputscale)\n",
    "print('outputscale', outputscale)\n",
    "\n",
    "model.covar_module.raw_outputscale.data.fill_(constraint.inverse_transform(torch.tensor(2.0)))\n",
    "raw_outputscale = model.covar_module.raw_outputscale\n",
    "outputscale = constraint.transform(raw_outputscale)\n",
    "print('outputscale', outputscale)"
   ]
  },
  {
   "cell_type": "code",
   "execution_count": 37,
   "metadata": {},
   "outputs": [
    {
     "name": "stdout",
     "output_type": "stream",
     "text": [
      "Actual noise value:  tensor([0.6932], grad_fn=<AddBackward0>)\n",
      "Noise constraint:  GreaterThan(1.000E-04)\n"
     ]
    }
   ],
   "source": [
    "# noise\n",
    "print('Actual noise value: ', likelihood.noise)\n",
    "print('Noise constraint: ', likelihood.noise_covar.raw_noise_constraint)"
   ]
  },
  {
   "cell_type": "code",
   "execution_count": 45,
   "metadata": {},
   "outputs": [
    {
     "name": "stdout",
     "output_type": "stream",
     "text": [
      "noise constraint:  GreaterThan(1.000E-01)\n",
      "noise constraint:  Positive()\n"
     ]
    }
   ],
   "source": [
    "# noise can be set when created\n",
    "likelihood = gpytorch.likelihoods.GaussianLikelihood(noise_constraint=gpytorch.constraints.GreaterThan(0.1))\n",
    "print('noise constraint: ', likelihood.noise_covar.raw_noise_constraint)\n",
    "\n",
    "# or changed after module is created\n",
    "likelihood.noise_covar.register_constraint('raw_noise', gpytorch.constraints.Positive())\n",
    "print('noise constraint: ', likelihood.noise_covar.raw_noise_constraint)\n"
   ]
  },
  {
   "cell_type": "code",
   "execution_count": 47,
   "metadata": {},
   "outputs": [],
   "source": [
    "# priors can also be or created\n",
    "# registers a prior on the sqrt of the noise parameter (e.g. a prior for the nosie SD instead of var)\n",
    "likelihood.noise_covar.register_prior(\n",
    "    'noise_std_prior',\n",
    "    gpytorch.priors.NormalPrior(0,1), # noraml distribution with prior mean 0 and std 1\n",
    "    lambda module: module.noise.sqrt() # this is the bit that modifies the prior (by sqrt'ing the noise parameter)\n",
    ")\n",
    "\n",
    "# Create a Gaussianlikelihood with a normal prior for the noise\n",
    "likelihood = gpytorch.likelihoods.GaussianLikelihood(\n",
    "    noise_constraint = gpytorch.constraints.GreaterThan(1e-3),\n",
    "    noise_prior = gpytorch.priors.NormalPrior(0,1)\n",
    ")"
   ]
  },
  {
   "cell_type": "code",
   "execution_count": null,
   "metadata": {},
   "outputs": [],
   "source": [
    "# Let's follow the tutorial and make a custom gp using Exact GP\n",
    "# this provides an example of the above all put together to customize a the ExactGP model\n",
    "\n",
    "class FancyGPWithPriors(gpytorch.models.ExactGP):\n",
    "    def __init__(self, train_x, train_y, likelihood):\n",
    "        super(FancyGPWithPriors, self).__init__(train_x, train_y, likelihood)\n",
    "        self.mean_module = gpytorch.means.ConstantMean()\n",
    "        \n",
    "        lengthscale_prior = gpytorch.priors.GammaPrior(3.0, 6.0) # gamma prior with shape 3 and scale 6\n",
    "        outputscale_prior = gpytorch.priors.GammaPrior(2.0, 0.15) # gamma prior with shape 2 and scale 0.15\n",
    "\n",
    "        self.covar_module = gpytorch.kernels.ScaleKernel(\n",
    "            gpytorch.kernels.RBFKernel(\n",
    "                lengthscale_prior=lengthscale_prior,\n",
    "            ),\n",
    "            outputscale_prior = outputscale_prior\n",
    "        )\n",
    "\n",
    "        # Initialize lengthscale and outputscale to mean of priors\n",
    "        self.covar_module.base_kernel.lengthscale = lengthscale_prior.mean\n",
    "        self.covar_module.outputscale = outputscale_prior.mean\n",
    "\n",
    "    def forward(self, x):\n",
    "        mean_x = self.mean_module(x)\n",
    "        covar_x = self.covar_module(x)\n",
    "        return gpytorch.distributions.MultivariateNormal(mean_x, covar_x)\n",
    "    \n",
    "likelihood = gpytorch.likelihoods.GaussianLikelihood(\n",
    "    noise_constraint = gpytorch.constraints.GreaterThan(1e-2)\n",
    ")\n",
    "\n",
    "model = FancyGPWithPriors(train_x, train_y, likelihood)"
   ]
  },
  {
   "cell_type": "code",
   "execution_count": 51,
   "metadata": {},
   "outputs": [
    {
     "name": "stdout",
     "output_type": "stream",
     "text": [
      "1.0000001192092896 0.5 2.0\n"
     ]
    }
   ],
   "source": [
    "# and initializing hyperparameters in one call \n",
    "# for convenience, gpytorch modules allow to update a full dictionary of parametes on submodules. for example:\n",
    "\n",
    "hypers = {\n",
    "    'likelihood.noise_covar.noise': torch.tensor(1.),\n",
    "    'covar_module.base_kernel.lengthscale': torch.tensor(0.5),\n",
    "    'covar_module.outputscale': torch.tensor(2.)\n",
    "}\n",
    "\n",
    "model.initialize(**hypers) # this will set the values of the parameters in the model to the values in the hypers dictionary\n",
    "print(\n",
    "    model.likelihood.noise_covar.noise.item(),\n",
    "    model.covar_module.base_kernel.lengthscale.item(),\n",
    "    model.covar_module.outputscale.item()\n",
    ")"
   ]
  },
  {
   "cell_type": "markdown",
   "metadata": {},
   "source": [
    "How to save and load models in gpytorch"
   ]
  },
  {
   "cell_type": "code",
   "execution_count": 59,
   "metadata": {},
   "outputs": [],
   "source": [
    "#this is exact same from the first cell of the hyperparameters section\n",
    "\n",
    "train_x = torch.linspace(0, 1, 100) # 100 points between 0 and 1\n",
    "train_y = torch.sin(train_x * (2 * math.pi)) + torch.randn(train_x.size()) * 0.2 # Noisy sine wave\n",
    "\n",
    "\n",
    "\n",
    "class ExactGPModel(gpytorch.models.ExactGP):\n",
    "    def __init__(self, train_x, train_y, likelihood):\n",
    "        super(ExactGPModel, self).__init__(train_x, train_y, likelihood)\n",
    "        self.mean_module = gpytorch.means.ConstantMean()\n",
    "        self.covar_module = gpytorch.kernels.ScaleKernel(gpytorch.kernels.RBFKernel())\n",
    "\n",
    "    def forward(self, x):\n",
    "        mean_x = self.mean_module(x)\n",
    "        covar_x = self.covar_module(x)\n",
    "        return gpytorch.distributions.MultivariateNormal(mean_x, covar_x)\n",
    "    \n",
    "#initialize likelihood and model\n",
    "likelihood  = gpytorch.likelihoods.GaussianLikelihood()\n",
    "model = ExactGPModel(train_x, train_y, likelihood)"
   ]
  },
  {
   "cell_type": "code",
   "execution_count": 60,
   "metadata": {},
   "outputs": [],
   "source": [
    "# let's change default hyperparameters to demonstrate how this works\n",
    "model.covar_module.outputscale = 2.3\n",
    "model.covar_module.base_kernel.lengthscale = 6.2"
   ]
  },
  {
   "cell_type": "code",
   "execution_count": 61,
   "metadata": {},
   "outputs": [
    {
     "data": {
      "text/plain": [
       "OrderedDict([('likelihood.noise_covar.raw_noise', tensor([0.])),\n",
       "             ('likelihood.noise_covar.raw_noise_constraint.lower_bound',\n",
       "              tensor(1.0000e-04)),\n",
       "             ('likelihood.noise_covar.raw_noise_constraint.upper_bound',\n",
       "              tensor(inf)),\n",
       "             ('mean_module.raw_constant', tensor(0.)),\n",
       "             ('covar_module.raw_outputscale', tensor(2.1944)),\n",
       "             ('covar_module.base_kernel.raw_lengthscale', tensor([[6.1980]])),\n",
       "             ('covar_module.base_kernel.raw_lengthscale_constraint.lower_bound',\n",
       "              tensor(0.)),\n",
       "             ('covar_module.base_kernel.raw_lengthscale_constraint.upper_bound',\n",
       "              tensor(inf)),\n",
       "             ('covar_module.raw_outputscale_constraint.lower_bound',\n",
       "              tensor(0.)),\n",
       "             ('covar_module.raw_outputscale_constraint.upper_bound',\n",
       "              tensor(inf))])"
      ]
     },
     "execution_count": 61,
     "metadata": {},
     "output_type": "execute_result"
    }
   ],
   "source": [
    "# this will call the full state of the gpytorch model\n",
    "model.state_dict()"
   ]
  },
  {
   "cell_type": "code",
   "execution_count": 62,
   "metadata": {},
   "outputs": [],
   "source": [
    "# And this will save that\n",
    "torch.save(model.state_dict(), 'model_state.pth')"
   ]
  },
  {
   "cell_type": "code",
   "execution_count": 64,
   "metadata": {},
   "outputs": [
    {
     "name": "stdout",
     "output_type": "stream",
     "text": [
      "OrderedDict({'likelihood.noise_covar.raw_noise': tensor([0.]), 'likelihood.noise_covar.raw_noise_constraint.lower_bound': tensor(1.0000e-04), 'likelihood.noise_covar.raw_noise_constraint.upper_bound': tensor(inf), 'mean_module.raw_constant': tensor(0.), 'covar_module.raw_outputscale': tensor(0.), 'covar_module.base_kernel.raw_lengthscale': tensor([[0.]]), 'covar_module.base_kernel.raw_lengthscale_constraint.lower_bound': tensor(0.), 'covar_module.base_kernel.raw_lengthscale_constraint.upper_bound': tensor(inf), 'covar_module.raw_outputscale_constraint.lower_bound': tensor(0.), 'covar_module.raw_outputscale_constraint.upper_bound': tensor(inf)})\n",
      "OrderedDict({'likelihood.noise_covar.raw_noise': tensor([0.]), 'likelihood.noise_covar.raw_noise_constraint.lower_bound': tensor(1.0000e-04), 'likelihood.noise_covar.raw_noise_constraint.upper_bound': tensor(inf), 'mean_module.raw_constant': tensor(0.), 'covar_module.raw_outputscale': tensor(2.1944), 'covar_module.base_kernel.raw_lengthscale': tensor([[6.1980]]), 'covar_module.base_kernel.raw_lengthscale_constraint.lower_bound': tensor(0.), 'covar_module.base_kernel.raw_lengthscale_constraint.upper_bound': tensor(inf), 'covar_module.raw_outputscale_constraint.lower_bound': tensor(0.), 'covar_module.raw_outputscale_constraint.upper_bound': tensor(inf)})\n"
     ]
    }
   ],
   "source": [
    "# let's load this state (with a demonstration to show it makes a difference)\n",
    "state_dict = torch.load('model_state.pth')\n",
    "model=ExactGPModel(train_x, train_y, likelihood) # reinitialize a new model\n",
    "\n",
    "before = model.state_dict()\n",
    "print(before)\n",
    "\n",
    "\n",
    "model.load_state_dict(state_dict)\n",
    "after = model.state_dict()\n",
    "\n",
    "print(after)"
   ]
  },
  {
   "cell_type": "code",
   "execution_count": null,
   "metadata": {},
   "outputs": [],
   "source": [
    "# an advanced example with a DKL (Deep Kernel Learning model)\n",
    "# this model type allows the NN to transform raw input into a better space for GP to operate on (similar to preprocessing)\n",
    "# basically the GPR is operating over the NN output\n",
    "# the whole model can be optimized using this gramework under marginal log likelihood\n",
    "\n",
    "class GPwithNNFeatureExtractor(gpytorch.models.ExactGP): # custom GP model \n",
    "    def __init__(self, train_x, train_y, likelihood):\n",
    "        super(GPwithNNFeatureExtractor, self).__init__(train_x, train_y, likelihood) # this and prev line calls the parent class with training data and likelihood = Gaussian noise model\n",
    "        self.mean_module = gpytorch.means.ConstantMean() # assumes the output has a constant mean (learnable scalar)\n",
    "        self.covar_module = gpytorch.kernels.ScaleKernel(gpytorch.kernels.RBFKernel()) # ScaleKernel wraps the RBF kernel with a scalar multiplier\n",
    "\n",
    "        self.feature_extractor = torch.nn.Sequential(\n",
    "            torch.nn.Linear(1, 2),\n",
    "            torch.nn.BatchNorm1d(2),\n",
    "            torch.nn.ReLU(),\n",
    "            torch.nn.Linear(2, 2),\n",
    "            torch.nn.BatchNorm1d(2),\n",
    "            torch.nn.ReLU(),\n",
    "        ) # simple 2-layer feed-forward (1 input, 2 transformed features, with Batch norm to stabilize training, and ReLU adding non-linearity)\n",
    "\n",
    "    def forward(self, x): # even though we define the nn architecture last, we see below it is executed first before being fed into the GPR\n",
    "        x = self.feature_extractor(x)\n",
    "        mean_x = self.mean_module(x)\n",
    "        covar_x = self.covar_module(x)\n",
    "        return gpytorch.distributions.MultivariateNormal(mean_x, covar_x)\n",
    "    \n",
    "lieklihood = gpytorch.likelihoods.GaussianLikelihood()\n",
    "model = GPwithNNFeatureExtractor(train_x, train_y, likelihood)"
   ]
  },
  {
   "cell_type": "code",
   "execution_count": null,
   "metadata": {},
   "outputs": [
    {
     "data": {
      "text/plain": [
       "OrderedDict([('likelihood.noise_covar.raw_noise', tensor([0.])),\n",
       "             ('likelihood.noise_covar.raw_noise_constraint.lower_bound',\n",
       "              tensor(1.0000e-04)),\n",
       "             ('likelihood.noise_covar.raw_noise_constraint.upper_bound',\n",
       "              tensor(inf)),\n",
       "             ('mean_module.raw_constant', tensor(0.)),\n",
       "             ('covar_module.raw_outputscale', tensor(0.)),\n",
       "             ('covar_module.base_kernel.raw_lengthscale', tensor([[0.]])),\n",
       "             ('covar_module.base_kernel.raw_lengthscale_constraint.lower_bound',\n",
       "              tensor(0.)),\n",
       "             ('covar_module.base_kernel.raw_lengthscale_constraint.upper_bound',\n",
       "              tensor(inf)),\n",
       "             ('covar_module.raw_outputscale_constraint.lower_bound',\n",
       "              tensor(0.)),\n",
       "             ('covar_module.raw_outputscale_constraint.upper_bound',\n",
       "              tensor(inf)),\n",
       "             ('feature_extractor.0.weight',\n",
       "              tensor([[0.8996],\n",
       "                      [0.2294]])),\n",
       "             ('feature_extractor.0.bias', tensor([-0.3118, -0.3235])),\n",
       "             ('feature_extractor.1.weight', tensor([1., 1.])),\n",
       "             ('feature_extractor.1.bias', tensor([0., 0.])),\n",
       "             ('feature_extractor.1.running_mean', tensor([0., 0.])),\n",
       "             ('feature_extractor.1.running_var', tensor([1., 1.])),\n",
       "             ('feature_extractor.1.num_batches_tracked', tensor(0)),\n",
       "             ('feature_extractor.3.weight',\n",
       "              tensor([[-0.5799,  0.3661],\n",
       "                      [-0.4761,  0.2540]])),\n",
       "             ('feature_extractor.3.bias', tensor([0.1237, 0.5527])),\n",
       "             ('feature_extractor.4.weight', tensor([1., 1.])),\n",
       "             ('feature_extractor.4.bias', tensor([0., 0.])),\n",
       "             ('feature_extractor.4.running_mean', tensor([0., 0.])),\n",
       "             ('feature_extractor.4.running_var', tensor([1., 1.])),\n",
       "             ('feature_extractor.4.num_batches_tracked', tensor(0))])"
      ]
     },
     "execution_count": 69,
     "metadata": {},
     "output_type": "execute_result"
    }
   ],
   "source": [
    "model.state_dict() # this will show the orderdictionary which is much more complex"
   ]
  },
  {
   "cell_type": "code",
   "execution_count": 70,
   "metadata": {},
   "outputs": [
    {
     "data": {
      "text/plain": [
       "<All keys matched successfully>"
      ]
     },
     "execution_count": 70,
     "metadata": {},
     "output_type": "execute_result"
    }
   ],
   "source": [
    "# however saving and loading will work exactly the same\n",
    "torch.save(model.state_dict(), 'my_gp_with_nn_model.pth')\n",
    "state_dict = torch.load('my_gp_with_nn_model.pth')\n",
    "model = GPwithNNFeatureExtractor(train_x, train_y, likelihood)\n",
    "model.load_state_dict(state_dict)"
   ]
  },
  {
   "cell_type": "code",
   "execution_count": 71,
   "metadata": {},
   "outputs": [
    {
     "data": {
      "text/plain": [
       "OrderedDict([('likelihood.noise_covar.raw_noise', tensor([0.])),\n",
       "             ('likelihood.noise_covar.raw_noise_constraint.lower_bound',\n",
       "              tensor(1.0000e-04)),\n",
       "             ('likelihood.noise_covar.raw_noise_constraint.upper_bound',\n",
       "              tensor(inf)),\n",
       "             ('mean_module.raw_constant', tensor(0.)),\n",
       "             ('covar_module.raw_outputscale', tensor(0.)),\n",
       "             ('covar_module.base_kernel.raw_lengthscale', tensor([[0.]])),\n",
       "             ('covar_module.base_kernel.raw_lengthscale_constraint.lower_bound',\n",
       "              tensor(0.)),\n",
       "             ('covar_module.base_kernel.raw_lengthscale_constraint.upper_bound',\n",
       "              tensor(inf)),\n",
       "             ('covar_module.raw_outputscale_constraint.lower_bound',\n",
       "              tensor(0.)),\n",
       "             ('covar_module.raw_outputscale_constraint.upper_bound',\n",
       "              tensor(inf)),\n",
       "             ('feature_extractor.0.weight',\n",
       "              tensor([[0.8996],\n",
       "                      [0.2294]])),\n",
       "             ('feature_extractor.0.bias', tensor([-0.3118, -0.3235])),\n",
       "             ('feature_extractor.1.weight', tensor([1., 1.])),\n",
       "             ('feature_extractor.1.bias', tensor([0., 0.])),\n",
       "             ('feature_extractor.1.running_mean', tensor([0., 0.])),\n",
       "             ('feature_extractor.1.running_var', tensor([1., 1.])),\n",
       "             ('feature_extractor.1.num_batches_tracked', tensor(0)),\n",
       "             ('feature_extractor.3.weight',\n",
       "              tensor([[-0.5799,  0.3661],\n",
       "                      [-0.4761,  0.2540]])),\n",
       "             ('feature_extractor.3.bias', tensor([0.1237, 0.5527])),\n",
       "             ('feature_extractor.4.weight', tensor([1., 1.])),\n",
       "             ('feature_extractor.4.bias', tensor([0., 0.])),\n",
       "             ('feature_extractor.4.running_mean', tensor([0., 0.])),\n",
       "             ('feature_extractor.4.running_var', tensor([1., 1.])),\n",
       "             ('feature_extractor.4.num_batches_tracked', tensor(0))])"
      ]
     },
     "execution_count": 71,
     "metadata": {},
     "output_type": "execute_result"
    }
   ],
   "source": [
    "model.state_dict()"
   ]
  },
  {
   "cell_type": "markdown",
   "metadata": {},
   "source": [
    "The following is for Kernels: Sum and Products"
   ]
  },
  {
   "cell_type": "code",
   "execution_count": null,
   "metadata": {},
   "outputs": [],
   "source": [
    "# Base kernels\n",
    "rbf_kernel_1 = gpytorch.kernels.RBFKernel()\n",
    "cos_kernel_1 = gpytorch.kernels.CosineKernel()\n",
    "rbf_kernel_2 = gpytorch.kernels.RBFKernel()\n",
    "cos_kernel_2 = gpytorch.kernels.CosineKernel()\n",
    "\n",
    "# Manual Implementation \n",
    "spectral_mixture_kernel_1 = (rbf_kernel_1 * cos_kernel_1) + (rbf_kernel_2 * cos_kernel_2)\n",
    "# of course, it probably makes more sense to use the spectral mixture kernel provided in gpytorch\n",
    "spectral_mixture_kernel_2 = gpytorch.kernels.SpectralMixtureKernel"
   ]
  },
  {
   "cell_type": "code",
   "execution_count": 78,
   "metadata": {},
   "outputs": [
    {
     "data": {
      "text/plain": [
       "torch.Size([10, 10])"
      ]
     },
     "execution_count": 78,
     "metadata": {},
     "output_type": "execute_result"
    }
   ],
   "source": [
    "# efficient summation of univariate kernels\n",
    "d=3\n",
    "\n",
    "batch_univariate_rbf_kernel = gpytorch.kernels.RBFKernel(\n",
    "    batch_shape = torch.Size([d]), # A batch of d...\n",
    "    ard_num_dims=1 # ...univariate kernels\n",
    ")\n",
    "\n",
    "#including batch_shape ensure that the lengthscale parameter of batch_univariate_rbf_kernel is a d x 1 x 1 tensor\n",
    "# meaning each univariate kernel will have its own lengthscale (you can have them all have the same lengthscale by omitting the batch_shape argument)\n",
    "\n",
    "\n",
    "\n",
    "#to compute the univariate kernel matrices, we need to feed the appropriate dimensions of X into each of the component\n",
    "# kernels. We accomplish this by reshaping the 'n x d' matrix representing X into a batch of d x (n x 1) \n",
    "n = 10\n",
    "\n",
    "X = torch.randn(n, d) # some random data in a n x d matrix\n",
    "batched_dimensions_of_X = X.mT.unsqueeze(-1) # now a 'd x n x 1' tensor\n",
    "\n",
    "# we then feed the batches of univariate data into the batched kernel object to get our batch of univariate kernel matrices\n",
    "univariate_rbf_covars = batch_univariate_rbf_kernel(batched_dimensions_of_X)\n",
    "univariate_rbf_covars.shape # d x n x n\n",
    "\n",
    "# finally computing the sum over the batch (sum of univariate kernels)\n",
    "additive_covar = univariate_rbf_covars.sum(dim=-3) # this could just be dim = 0 or no argument for same results\n",
    "additive_covar.shape # n x n"
   ]
  },
  {
   "cell_type": "code",
   "execution_count": 81,
   "metadata": {},
   "outputs": [
    {
     "name": "stdout",
     "output_type": "stream",
     "text": [
      "<torch.utils.benchmark.utils.common.Measurement object at 0x00000251CC1B3CE0>\n",
      "naive_additive_kernel(X)\n",
      "  4.52 ms\n",
      "  1 measurement, 100 runs , 1 thread\n",
      "<torch.utils.benchmark.utils.common.Measurement object at 0x00000251CC4FB1A0>\n",
      "batch_univariate_rbf_kernel(X.mT.unsqueeze(-1)).sum(dim=-3)\n",
      "  5.84 ms\n",
      "  1 measurement, 100 runs , 1 thread\n"
     ]
    }
   ],
   "source": [
    "# the followin is to demonstrate faster processes on GPU, which of course doesn't make a difference on my computer\n",
    "from torch. utils import benchmark\n",
    "\n",
    "d = 10\n",
    "n = 500\n",
    "device = torch.device(\"cuda\") if torch.cuda.is_available() else torch.device(\"cpu\")\n",
    "\n",
    "X = torch.randn(n, d, device=device)\n",
    "\n",
    "naive_additive_kernel = (\n",
    "    gpytorch.kernels.RBFKernel(ard_num_dims=1, active_dims=[0]) +\n",
    "    gpytorch.kernels.RBFKernel(ard_num_dims=1, active_dims=[1]) +\n",
    "    gpytorch.kernels.RBFKernel(ard_num_dims=1, active_dims=[2]) +\n",
    "    gpytorch.kernels.RBFKernel(ard_num_dims=1, active_dims=[3]) +\n",
    "    gpytorch.kernels.RBFKernel(ard_num_dims=1, active_dims=[4]) +\n",
    "    gpytorch.kernels.RBFKernel(ard_num_dims=1, active_dims=[5]) +\n",
    "    gpytorch.kernels.RBFKernel(ard_num_dims=1, active_dims=[6]) +\n",
    "    gpytorch.kernels.RBFKernel(ard_num_dims=1, active_dims=[7]) +\n",
    "    gpytorch.kernels.RBFKernel(ard_num_dims=1, active_dims=[8]) +\n",
    "    gpytorch.kernels.RBFKernel(ard_num_dims=1, active_dims=[9])\n",
    ").to(device=device)\n",
    "\n",
    "with gpytorch.settings.lazily_evaluate_kernels(False):\n",
    "    print(benchmark.Timer(\n",
    "        stmt=\"naive_additive_kernel(X)\",\n",
    "        globals={\"naive_additive_kernel\": naive_additive_kernel, \"X\": X}\n",
    "    ).timeit(100))\n",
    "\n",
    "# using the variable (same as above example) the code below should be significantly faster on GPU\n",
    "batch_univariate_rbf_kernel = gpytorch.kernels.RBFKernel(\n",
    "    batch_shape=torch.Size([d]), ard_num_dims=1,\n",
    ").to(device=device)\n",
    "\n",
    "with gpytorch.settings.lazily_evaluate_kernels(False):\n",
    "    print(benchmark.Timer(\n",
    "        stmt=\"batch_univariate_rbf_kernel(X.mT.unsqueeze(-1)).sum(dim=-3)\",\n",
    "        globals={\"batch_univariate_rbf_kernel\": batch_univariate_rbf_kernel, \"X\": X}\n",
    "    ).timeit(100))"
   ]
  },
  {
   "cell_type": "code",
   "execution_count": 84,
   "metadata": {},
   "outputs": [],
   "source": [
    "# a full example using GP wit additive kernels\n",
    "\n",
    "class AdditiveKernelGP(gpytorch.models.ExactGP):\n",
    "    def __init__(self, X_train, y_train, d):\n",
    "        likelihood = gpytorch.likelihoods.GaussianLikelihood()\n",
    "        super().__init__(X_train, y_train, likelihood)\n",
    "\n",
    "        self.mean_module = gpytorch.means.ConstantMean()\n",
    "        self.covar_module = gpytorch.kernels.ScaleKernel(\n",
    "            gpytorch.kernels.RBFKernel(batch_shape = torch.Size([d]), \n",
    "                                       ard_num_dims = 1)\n",
    "        )\n",
    "\n",
    "    def forward(self, X):\n",
    "        mean = self.mean_module(X)\n",
    "        batched_dimensions_of_X = X.mT.unsqueeze(-1) # now a d x n x 1 tensor\n",
    "        covar = self.covar_module(batched_dimensions_of_X).sum(dim=-3)\n",
    "        return gpytorch.distributions.MultivariateNormal(mean, covar)"
   ]
  },
  {
   "cell_type": "markdown",
   "metadata": {},
   "source": [
    "I'll just add a standard base model here, which should be sufficient for general scientific purposes"
   ]
  },
  {
   "cell_type": "code",
   "execution_count": 94,
   "metadata": {},
   "outputs": [
    {
     "name": "stdout",
     "output_type": "stream",
     "text": [
      "Iteration 0, Loss: 1.5816723108291626\n",
      "Iteration 1, Loss: 1.5640580654144287\n",
      "Iteration 2, Loss: 1.552570104598999\n",
      "Iteration 3, Loss: 1.5462846755981445\n",
      "Iteration 4, Loss: 1.5437391996383667\n",
      "Iteration 5, Loss: 1.5432567596435547\n",
      "Iteration 6, Loss: 1.5436580181121826\n",
      "Iteration 7, Loss: 1.5443774461746216\n",
      "Iteration 8, Loss: 1.5451809167861938\n",
      "Iteration 9, Loss: 1.5459697246551514\n",
      "Iteration 10, Loss: 1.5466740131378174\n",
      "Iteration 11, Loss: 1.5471903085708618\n",
      "Iteration 12, Loss: 1.5473798513412476\n",
      "Iteration 13, Loss: 1.5471376180648804\n",
      "Iteration 14, Loss: 1.5464680194854736\n",
      "Iteration 15, Loss: 1.5454977750778198\n",
      "Iteration 16, Loss: 1.5444262027740479\n",
      "Iteration 17, Loss: 1.543452262878418\n",
      "Iteration 18, Loss: 1.5427170991897583\n",
      "Iteration 19, Loss: 1.5422743558883667\n",
      "Iteration 20, Loss: 1.542096495628357\n",
      "Iteration 21, Loss: 1.5421099662780762\n",
      "Iteration 22, Loss: 1.5422348976135254\n",
      "Iteration 23, Loss: 1.5424083471298218\n",
      "Iteration 24, Loss: 1.5425866842269897\n",
      "Iteration 25, Loss: 1.542739987373352\n",
      "Iteration 26, Loss: 1.5428427457809448\n",
      "Iteration 27, Loss: 1.5428712368011475\n",
      "Iteration 28, Loss: 1.5428084135055542\n",
      "Iteration 29, Loss: 1.5426535606384277\n",
      "Iteration 30, Loss: 1.5424305200576782\n",
      "Iteration 31, Loss: 1.5421855449676514\n",
      "Iteration 32, Loss: 1.5419732332229614\n",
      "Iteration 33, Loss: 1.5418370962142944\n",
      "Iteration 34, Loss: 1.5417944192886353\n",
      "Iteration 35, Loss: 1.5418317317962646\n",
      "Iteration 36, Loss: 1.5419129133224487\n",
      "Iteration 37, Loss: 1.5419960021972656\n",
      "Iteration 38, Loss: 1.5420504808425903\n",
      "Iteration 39, Loss: 1.5420650243759155\n",
      "Iteration 40, Loss: 1.542046308517456\n",
      "Iteration 41, Loss: 1.542008638381958\n",
      "Iteration 42, Loss: 1.5419639348983765\n",
      "Iteration 43, Loss: 1.5419182777404785\n",
      "Iteration 44, Loss: 1.5418729782104492\n",
      "Iteration 45, Loss: 1.5418295860290527\n",
      "Iteration 46, Loss: 1.5417935848236084\n",
      "Iteration 47, Loss: 1.541772723197937\n",
      "Iteration 48, Loss: 1.5417717695236206\n",
      "Iteration 49, Loss: 1.5417883396148682\n",
      "Iteration 50, Loss: 1.5418128967285156\n",
      "Iteration 51, Loss: 1.5418332815170288\n",
      "Iteration 52, Loss: 1.5418403148651123\n",
      "Iteration 53, Loss: 1.5418322086334229\n",
      "Iteration 54, Loss: 1.541813611984253\n",
      "Iteration 55, Loss: 1.5417931079864502\n",
      "Iteration 56, Loss: 1.5417762994766235\n",
      "Iteration 57, Loss: 1.5417659282684326\n",
      "Iteration 58, Loss: 1.5417611598968506\n",
      "Iteration 59, Loss: 1.541759729385376\n",
      "Iteration 60, Loss: 1.5417605638504028\n",
      "Iteration 61, Loss: 1.5417627096176147\n",
      "Iteration 62, Loss: 1.54176664352417\n",
      "Iteration 63, Loss: 1.5417706966400146\n",
      "Iteration 64, Loss: 1.5417726039886475\n",
      "Iteration 65, Loss: 1.5417712926864624\n",
      "Iteration 66, Loss: 1.5417660474777222\n",
      "Iteration 67, Loss: 1.5417591333389282\n",
      "Iteration 68, Loss: 1.5417530536651611\n",
      "Iteration 69, Loss: 1.5417495965957642\n",
      "Iteration 70, Loss: 1.5417492389678955\n",
      "Iteration 71, Loss: 1.5417506694793701\n",
      "Iteration 72, Loss: 1.5417524576187134\n",
      "Iteration 73, Loss: 1.5417536497116089\n",
      "Iteration 74, Loss: 1.5417540073394775\n",
      "Iteration 75, Loss: 1.5417537689208984\n",
      "Iteration 76, Loss: 1.5417531728744507\n",
      "Iteration 77, Loss: 1.5417520999908447\n",
      "Iteration 78, Loss: 1.5417505502700806\n",
      "Iteration 79, Loss: 1.5417487621307373\n",
      "Iteration 80, Loss: 1.5417473316192627\n",
      "Iteration 81, Loss: 1.5417468547821045\n",
      "Iteration 82, Loss: 1.5417472124099731\n",
      "Iteration 83, Loss: 1.5417481660842896\n",
      "Iteration 84, Loss: 1.5417488813400269\n",
      "Iteration 85, Loss: 1.5417492389678955\n",
      "Iteration 86, Loss: 1.5417487621307373\n",
      "Iteration 87, Loss: 1.5417481660842896\n",
      "Iteration 88, Loss: 1.5417474508285522\n",
      "Iteration 89, Loss: 1.541746973991394\n",
      "Iteration 90, Loss: 1.5417468547821045\n",
      "Iteration 91, Loss: 1.5417464971542358\n",
      "Iteration 92, Loss: 1.5417464971542358\n",
      "Iteration 93, Loss: 1.5417464971542358\n",
      "Iteration 94, Loss: 1.5417468547821045\n",
      "Iteration 95, Loss: 1.541746973991394\n",
      "Iteration 96, Loss: 1.5417470932006836\n",
      "Iteration 97, Loss: 1.541746973991394\n",
      "Iteration 98, Loss: 1.5417466163635254\n",
      "Iteration 99, Loss: 1.5417463779449463\n",
      "Learned noise level: 0.9306204915046692\n"
     ]
    }
   ],
   "source": [
    "import gpytorch\n",
    "import torch\n",
    "\n",
    "torch.manual_seed(42)\n",
    "\n",
    "# Example toy data: 10 samples with some noise added to the target values\n",
    "train_x = torch.randn(10, 1)\n",
    "train_y = torch.randn(10) + 0.1 * torch.randn(10)  # Add some noise\n",
    "\n",
    "# Define the Gaussian likelihood (with noise)\n",
    "likelihood = gpytorch.likelihoods.GaussianLikelihood()\n",
    "\n",
    "# Define the GP model (Exact GP)\n",
    "class ExactGPModel(gpytorch.models.ExactGP):\n",
    "    def __init__(self, train_x, train_y, likelihood):\n",
    "        super(ExactGPModel, self).__init__(train_x, train_y, likelihood)\n",
    "        self.mean_module = gpytorch.means.ConstantMean()\n",
    "        self.covar_module = gpytorch.kernels.RBFKernel()\n",
    "\n",
    "    def forward(self, x):\n",
    "        mean_x = self.mean_module(x)\n",
    "        covar_x = self.covar_module(x)\n",
    "        return gpytorch.distributions.MultivariateNormal(mean_x, covar_x)\n",
    "\n",
    "# Initialize the model\n",
    "model = ExactGPModel(train_x, train_y, likelihood)\n",
    "\n",
    "# Define the marginal log-likelihood (MLL) function\n",
    "mll = gpytorch.mlls.ExactMarginalLogLikelihood(likelihood, model)\n",
    "\n",
    "# Optimizer for training the model\n",
    "optimizer = torch.optim.Adam(model.parameters(), lr=0.1)\n",
    "\n",
    "# Training loop\n",
    "for i in range(100):\n",
    "    optimizer.zero_grad()\n",
    "    output = model(train_x)\n",
    "    loss = -mll(output, train_y)  # Minimize the negative log-likelihood\n",
    "    print(f\"Iteration {i}, Loss: {loss.item()}\")  # .item() converts to a scalar value for printing\n",
    "    loss.backward()\n",
    "    optimizer.step()\n",
    "\n",
    "# After training, you can check the learned noise level\n",
    "print(\"Learned noise level:\", likelihood.noise.item())\n"
   ]
  }
 ],
 "metadata": {
  "kernelspec": {
   "display_name": "venv",
   "language": "python",
   "name": "python3"
  },
  "language_info": {
   "codemirror_mode": {
    "name": "ipython",
    "version": 3
   },
   "file_extension": ".py",
   "mimetype": "text/x-python",
   "name": "python",
   "nbconvert_exporter": "python",
   "pygments_lexer": "ipython3",
   "version": "3.12.9"
  }
 },
 "nbformat": 4,
 "nbformat_minor": 2
}
